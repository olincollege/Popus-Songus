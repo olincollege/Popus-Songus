{
 "cells": [
  {
   "cell_type": "code",
   "execution_count": 12,
   "metadata": {},
   "outputs": [
    {
     "output_type": "stream",
     "name": "stdout",
     "text": [
      "The autoreload extension is already loaded. To reload it, use:\n  %reload_ext autoreload\n"
     ]
    }
   ],
   "source": [
    "%load_ext autoreload\n",
    "%autoreload 2"
   ]
  },
  {
   "cell_type": "code",
   "execution_count": 37,
   "metadata": {},
   "outputs": [],
   "source": [
    "import plotly.express as px\n",
    "\n"
   ]
  },
  {
   "cell_type": "code",
   "execution_count": 13,
   "metadata": {},
   "outputs": [
    {
     "output_type": "stream",
     "name": "stdout",
     "text": [
      "          Date               Song  \\\n0   2019-06-01      Old Town Road   \n1   2019-06-01       I Don't Care   \n2   2019-06-01            Bad Guy   \n3   2019-06-01             Sucker   \n4   2019-06-01               Talk   \n..         ...                ...   \n95  2019-06-01              Calma   \n96  2019-06-01               24/7   \n97  2019-06-01       Here Tonight   \n98  2019-06-01  Baila Baila Baila   \n99  2019-06-01          Te Robare   \n\n                                          Artist  \n0                        lil nas billy ray cyrus  \n1                      ed sheeran  justin bieber  \n2                                  billie eilish  \n3                                 jonas brothers  \n4                                         khalid  \n..                                           ...  \n95                            pedro capo farruko  \n96                            meek mill ella mai  \n97                                   brett young  \n98  ozuna daddy yankee j balvin farruko anuel aa  \n99                               nicky jam ozuna  \n\n[100 rows x 3 columns]\n"
     ]
    }
   ],
   "source": [
    "import final_billboard\n",
    "all_hot_100s = final_billboard.hot_100_data(2019,2019)\n",
    "print(all_hot_100s)"
   ]
  },
  {
   "cell_type": "code",
   "execution_count": 15,
   "metadata": {
    "tags": []
   },
   "outputs": [
    {
     "output_type": "stream",
     "name": "stdout",
     "text": [
      "          Date               Song  \\\n0   2019-06-01      Old Town Road   \n1   2019-06-01       I Don't Care   \n2   2019-06-01            Bad Guy   \n3   2019-06-01             Sucker   \n4   2019-06-01               Talk   \n..         ...                ...   \n95  2019-06-01              Calma   \n96  2019-06-01               24/7   \n97  2019-06-01       Here Tonight   \n98  2019-06-01  Baila Baila Baila   \n99  2019-06-01          Te Robare   \n\n                                          Artist                      id  \n0                        lil nas billy ray cyrus  2YpeDb67231RjR0MgVLzsG  \n1                      ed sheeran  justin bieber  3HVWdVOQ0ZA45FuZGSfvns  \n2                                  billie eilish  2Fxmhks0bxGSBdJ92vM42m  \n3                                 jonas brothers  22vgEDb5hykfaTwLuskFGD  \n4                                         khalid  6TqXcAFInzjp0bODyvrWEq  \n..                                           ...                     ...  \n95                            pedro capo farruko  5iwz1NiezX7WWjnCgY5TH4  \n96                            meek mill ella mai  6irE4Fbjbry3czv7mTxVSB  \n97                                   brett young  38nVuIj9mi5a8oopOJhSJk  \n98  ozuna daddy yankee j balvin farruko anuel aa  7mWFF4gPADjTQjC97CgFVt  \n99                               nicky jam ozuna  4PJ3umtW1aWdfh5EITHc6T  \n\n[100 rows x 4 columns]\n"
     ]
    }
   ],
   "source": [
    "import final_id_finder\n",
    "all_ids = final_id_finder.query_all_tracks(all_hot_100s)\n",
    "print(all_ids)"
   ]
  },
  {
   "cell_type": "code",
   "execution_count": 3,
   "metadata": {},
   "outputs": [
    {
     "data": {
      "application/vnd.plotly.v1+json": {
       "config": {
        "plotlyServerURL": "https://plot.ly"
       },
       "data": [
        {
         "domain": {
          "x": [
           0,
           1
          ],
          "y": [
           0,
           1
          ]
         },
         "hovertemplate": "Key Name=%{label}<br>Key Count=%{value}<extra></extra>",
         "labels": [
          "C",
          "C#",
          "D",
          "D#",
          "E",
          "F",
          "F#",
          "G",
          "G#",
          "A",
          "A#",
          "B"
         ],
         "legendgroup": "",
         "name": "",
         "showlegend": true,
         "type": "pie",
         "values": [
          8,
          9,
          2,
          1,
          4,
          2,
          7,
          5,
          2,
          1,
          3,
          6
         ]
        }
       ],
       "layout": {
        "legend": {
         "tracegroupgap": 0
        },
        "margin": {
         "t": 60
        },
        "template": {
         "data": {
          "bar": [
           {
            "error_x": {
             "color": "#2a3f5f"
            },
            "error_y": {
             "color": "#2a3f5f"
            },
            "marker": {
             "line": {
              "color": "#E5ECF6",
              "width": 0.5
             }
            },
            "type": "bar"
           }
          ],
          "barpolar": [
           {
            "marker": {
             "line": {
              "color": "#E5ECF6",
              "width": 0.5
             }
            },
            "type": "barpolar"
           }
          ],
          "carpet": [
           {
            "aaxis": {
             "endlinecolor": "#2a3f5f",
             "gridcolor": "white",
             "linecolor": "white",
             "minorgridcolor": "white",
             "startlinecolor": "#2a3f5f"
            },
            "baxis": {
             "endlinecolor": "#2a3f5f",
             "gridcolor": "white",
             "linecolor": "white",
             "minorgridcolor": "white",
             "startlinecolor": "#2a3f5f"
            },
            "type": "carpet"
           }
          ],
          "choropleth": [
           {
            "colorbar": {
             "outlinewidth": 0,
             "ticks": ""
            },
            "type": "choropleth"
           }
          ],
          "contour": [
           {
            "colorbar": {
             "outlinewidth": 0,
             "ticks": ""
            },
            "colorscale": [
             [
              0,
              "#0d0887"
             ],
             [
              0.1111111111111111,
              "#46039f"
             ],
             [
              0.2222222222222222,
              "#7201a8"
             ],
             [
              0.3333333333333333,
              "#9c179e"
             ],
             [
              0.4444444444444444,
              "#bd3786"
             ],
             [
              0.5555555555555556,
              "#d8576b"
             ],
             [
              0.6666666666666666,
              "#ed7953"
             ],
             [
              0.7777777777777778,
              "#fb9f3a"
             ],
             [
              0.8888888888888888,
              "#fdca26"
             ],
             [
              1,
              "#f0f921"
             ]
            ],
            "type": "contour"
           }
          ],
          "contourcarpet": [
           {
            "colorbar": {
             "outlinewidth": 0,
             "ticks": ""
            },
            "type": "contourcarpet"
           }
          ],
          "heatmap": [
           {
            "colorbar": {
             "outlinewidth": 0,
             "ticks": ""
            },
            "colorscale": [
             [
              0,
              "#0d0887"
             ],
             [
              0.1111111111111111,
              "#46039f"
             ],
             [
              0.2222222222222222,
              "#7201a8"
             ],
             [
              0.3333333333333333,
              "#9c179e"
             ],
             [
              0.4444444444444444,
              "#bd3786"
             ],
             [
              0.5555555555555556,
              "#d8576b"
             ],
             [
              0.6666666666666666,
              "#ed7953"
             ],
             [
              0.7777777777777778,
              "#fb9f3a"
             ],
             [
              0.8888888888888888,
              "#fdca26"
             ],
             [
              1,
              "#f0f921"
             ]
            ],
            "type": "heatmap"
           }
          ],
          "heatmapgl": [
           {
            "colorbar": {
             "outlinewidth": 0,
             "ticks": ""
            },
            "colorscale": [
             [
              0,
              "#0d0887"
             ],
             [
              0.1111111111111111,
              "#46039f"
             ],
             [
              0.2222222222222222,
              "#7201a8"
             ],
             [
              0.3333333333333333,
              "#9c179e"
             ],
             [
              0.4444444444444444,
              "#bd3786"
             ],
             [
              0.5555555555555556,
              "#d8576b"
             ],
             [
              0.6666666666666666,
              "#ed7953"
             ],
             [
              0.7777777777777778,
              "#fb9f3a"
             ],
             [
              0.8888888888888888,
              "#fdca26"
             ],
             [
              1,
              "#f0f921"
             ]
            ],
            "type": "heatmapgl"
           }
          ],
          "histogram": [
           {
            "marker": {
             "colorbar": {
              "outlinewidth": 0,
              "ticks": ""
             }
            },
            "type": "histogram"
           }
          ],
          "histogram2d": [
           {
            "colorbar": {
             "outlinewidth": 0,
             "ticks": ""
            },
            "colorscale": [
             [
              0,
              "#0d0887"
             ],
             [
              0.1111111111111111,
              "#46039f"
             ],
             [
              0.2222222222222222,
              "#7201a8"
             ],
             [
              0.3333333333333333,
              "#9c179e"
             ],
             [
              0.4444444444444444,
              "#bd3786"
             ],
             [
              0.5555555555555556,
              "#d8576b"
             ],
             [
              0.6666666666666666,
              "#ed7953"
             ],
             [
              0.7777777777777778,
              "#fb9f3a"
             ],
             [
              0.8888888888888888,
              "#fdca26"
             ],
             [
              1,
              "#f0f921"
             ]
            ],
            "type": "histogram2d"
           }
          ],
          "histogram2dcontour": [
           {
            "colorbar": {
             "outlinewidth": 0,
             "ticks": ""
            },
            "colorscale": [
             [
              0,
              "#0d0887"
             ],
             [
              0.1111111111111111,
              "#46039f"
             ],
             [
              0.2222222222222222,
              "#7201a8"
             ],
             [
              0.3333333333333333,
              "#9c179e"
             ],
             [
              0.4444444444444444,
              "#bd3786"
             ],
             [
              0.5555555555555556,
              "#d8576b"
             ],
             [
              0.6666666666666666,
              "#ed7953"
             ],
             [
              0.7777777777777778,
              "#fb9f3a"
             ],
             [
              0.8888888888888888,
              "#fdca26"
             ],
             [
              1,
              "#f0f921"
             ]
            ],
            "type": "histogram2dcontour"
           }
          ],
          "mesh3d": [
           {
            "colorbar": {
             "outlinewidth": 0,
             "ticks": ""
            },
            "type": "mesh3d"
           }
          ],
          "parcoords": [
           {
            "line": {
             "colorbar": {
              "outlinewidth": 0,
              "ticks": ""
             }
            },
            "type": "parcoords"
           }
          ],
          "pie": [
           {
            "automargin": true,
            "type": "pie"
           }
          ],
          "scatter": [
           {
            "marker": {
             "colorbar": {
              "outlinewidth": 0,
              "ticks": ""
             }
            },
            "type": "scatter"
           }
          ],
          "scatter3d": [
           {
            "line": {
             "colorbar": {
              "outlinewidth": 0,
              "ticks": ""
             }
            },
            "marker": {
             "colorbar": {
              "outlinewidth": 0,
              "ticks": ""
             }
            },
            "type": "scatter3d"
           }
          ],
          "scattercarpet": [
           {
            "marker": {
             "colorbar": {
              "outlinewidth": 0,
              "ticks": ""
             }
            },
            "type": "scattercarpet"
           }
          ],
          "scattergeo": [
           {
            "marker": {
             "colorbar": {
              "outlinewidth": 0,
              "ticks": ""
             }
            },
            "type": "scattergeo"
           }
          ],
          "scattergl": [
           {
            "marker": {
             "colorbar": {
              "outlinewidth": 0,
              "ticks": ""
             }
            },
            "type": "scattergl"
           }
          ],
          "scattermapbox": [
           {
            "marker": {
             "colorbar": {
              "outlinewidth": 0,
              "ticks": ""
             }
            },
            "type": "scattermapbox"
           }
          ],
          "scatterpolar": [
           {
            "marker": {
             "colorbar": {
              "outlinewidth": 0,
              "ticks": ""
             }
            },
            "type": "scatterpolar"
           }
          ],
          "scatterpolargl": [
           {
            "marker": {
             "colorbar": {
              "outlinewidth": 0,
              "ticks": ""
             }
            },
            "type": "scatterpolargl"
           }
          ],
          "scatterternary": [
           {
            "marker": {
             "colorbar": {
              "outlinewidth": 0,
              "ticks": ""
             }
            },
            "type": "scatterternary"
           }
          ],
          "surface": [
           {
            "colorbar": {
             "outlinewidth": 0,
             "ticks": ""
            },
            "colorscale": [
             [
              0,
              "#0d0887"
             ],
             [
              0.1111111111111111,
              "#46039f"
             ],
             [
              0.2222222222222222,
              "#7201a8"
             ],
             [
              0.3333333333333333,
              "#9c179e"
             ],
             [
              0.4444444444444444,
              "#bd3786"
             ],
             [
              0.5555555555555556,
              "#d8576b"
             ],
             [
              0.6666666666666666,
              "#ed7953"
             ],
             [
              0.7777777777777778,
              "#fb9f3a"
             ],
             [
              0.8888888888888888,
              "#fdca26"
             ],
             [
              1,
              "#f0f921"
             ]
            ],
            "type": "surface"
           }
          ],
          "table": [
           {
            "cells": {
             "fill": {
              "color": "#EBF0F8"
             },
             "line": {
              "color": "white"
             }
            },
            "header": {
             "fill": {
              "color": "#C8D4E3"
             },
             "line": {
              "color": "white"
             }
            },
            "type": "table"
           }
          ]
         },
         "layout": {
          "annotationdefaults": {
           "arrowcolor": "#2a3f5f",
           "arrowhead": 0,
           "arrowwidth": 1
          },
          "autotypenumbers": "strict",
          "coloraxis": {
           "colorbar": {
            "outlinewidth": 0,
            "ticks": ""
           }
          },
          "colorscale": {
           "diverging": [
            [
             0,
             "#8e0152"
            ],
            [
             0.1,
             "#c51b7d"
            ],
            [
             0.2,
             "#de77ae"
            ],
            [
             0.3,
             "#f1b6da"
            ],
            [
             0.4,
             "#fde0ef"
            ],
            [
             0.5,
             "#f7f7f7"
            ],
            [
             0.6,
             "#e6f5d0"
            ],
            [
             0.7,
             "#b8e186"
            ],
            [
             0.8,
             "#7fbc41"
            ],
            [
             0.9,
             "#4d9221"
            ],
            [
             1,
             "#276419"
            ]
           ],
           "sequential": [
            [
             0,
             "#0d0887"
            ],
            [
             0.1111111111111111,
             "#46039f"
            ],
            [
             0.2222222222222222,
             "#7201a8"
            ],
            [
             0.3333333333333333,
             "#9c179e"
            ],
            [
             0.4444444444444444,
             "#bd3786"
            ],
            [
             0.5555555555555556,
             "#d8576b"
            ],
            [
             0.6666666666666666,
             "#ed7953"
            ],
            [
             0.7777777777777778,
             "#fb9f3a"
            ],
            [
             0.8888888888888888,
             "#fdca26"
            ],
            [
             1,
             "#f0f921"
            ]
           ],
           "sequentialminus": [
            [
             0,
             "#0d0887"
            ],
            [
             0.1111111111111111,
             "#46039f"
            ],
            [
             0.2222222222222222,
             "#7201a8"
            ],
            [
             0.3333333333333333,
             "#9c179e"
            ],
            [
             0.4444444444444444,
             "#bd3786"
            ],
            [
             0.5555555555555556,
             "#d8576b"
            ],
            [
             0.6666666666666666,
             "#ed7953"
            ],
            [
             0.7777777777777778,
             "#fb9f3a"
            ],
            [
             0.8888888888888888,
             "#fdca26"
            ],
            [
             1,
             "#f0f921"
            ]
           ]
          },
          "colorway": [
           "#636efa",
           "#EF553B",
           "#00cc96",
           "#ab63fa",
           "#FFA15A",
           "#19d3f3",
           "#FF6692",
           "#B6E880",
           "#FF97FF",
           "#FECB52"
          ],
          "font": {
           "color": "#2a3f5f"
          },
          "geo": {
           "bgcolor": "white",
           "lakecolor": "white",
           "landcolor": "#E5ECF6",
           "showlakes": true,
           "showland": true,
           "subunitcolor": "white"
          },
          "hoverlabel": {
           "align": "left"
          },
          "hovermode": "closest",
          "mapbox": {
           "style": "light"
          },
          "paper_bgcolor": "white",
          "plot_bgcolor": "#E5ECF6",
          "polar": {
           "angularaxis": {
            "gridcolor": "white",
            "linecolor": "white",
            "ticks": ""
           },
           "bgcolor": "#E5ECF6",
           "radialaxis": {
            "gridcolor": "white",
            "linecolor": "white",
            "ticks": ""
           }
          },
          "scene": {
           "xaxis": {
            "backgroundcolor": "#E5ECF6",
            "gridcolor": "white",
            "gridwidth": 2,
            "linecolor": "white",
            "showbackground": true,
            "ticks": "",
            "zerolinecolor": "white"
           },
           "yaxis": {
            "backgroundcolor": "#E5ECF6",
            "gridcolor": "white",
            "gridwidth": 2,
            "linecolor": "white",
            "showbackground": true,
            "ticks": "",
            "zerolinecolor": "white"
           },
           "zaxis": {
            "backgroundcolor": "#E5ECF6",
            "gridcolor": "white",
            "gridwidth": 2,
            "linecolor": "white",
            "showbackground": true,
            "ticks": "",
            "zerolinecolor": "white"
           }
          },
          "shapedefaults": {
           "line": {
            "color": "#2a3f5f"
           }
          },
          "ternary": {
           "aaxis": {
            "gridcolor": "white",
            "linecolor": "white",
            "ticks": ""
           },
           "baxis": {
            "gridcolor": "white",
            "linecolor": "white",
            "ticks": ""
           },
           "bgcolor": "#E5ECF6",
           "caxis": {
            "gridcolor": "white",
            "linecolor": "white",
            "ticks": ""
           }
          },
          "title": {
           "x": 0.05
          },
          "xaxis": {
           "automargin": true,
           "gridcolor": "white",
           "linecolor": "white",
           "ticks": "",
           "title": {
            "standoff": 15
           },
           "zerolinecolor": "white",
           "zerolinewidth": 2
          },
          "yaxis": {
           "automargin": true,
           "gridcolor": "white",
           "linecolor": "white",
           "ticks": "",
           "title": {
            "standoff": 15
           },
           "zerolinecolor": "white",
           "zerolinewidth": 2
          }
         }
        }
       }
      }
     },
     "metadata": {},
     "output_type": "display_data"
    }
   ],
   "source": [
    "fig = px.pie(dataframe_converted, values=\"Key Count\", names=\"Key Name\")\n",
    "fig.show()"
   ]
  },
  {
   "cell_type": "code",
   "execution_count": 3,
   "metadata": {},
   "outputs": [
    {
     "name": "stdout",
     "output_type": "stream",
     "text": [
      "{datetime.date(2019, 1, 1): [{'title': 'Thank U, Next', 'artist': 'Ariana Grande'}, {'title': 'Without Me', 'artist': 'Halsey'}, {'title': 'All I Want For Christmas Is You', 'artist': 'Mariah Carey'}, {'title': 'Sicko Mode', 'artist': 'Travis Scott'}, {'title': 'Sunflower (Spider-Man: Into The Spider-Verse)', 'artist': 'Post Malone & Swae Lee'}, {'title': 'High Hopes', 'artist': 'Panic! At The Disco'}, {'title': 'Happier', 'artist': 'Marshmello & Bastille'}, {'title': 'Jingle Bell Rock', 'artist': 'Bobby Helms'}, {'title': \"Rockin' Around The Christmas Tree\", 'artist': 'Brenda Lee'}, {'title': 'A Holly Jolly Christmas', 'artist': 'Burl Ives'}, {'title': 'The Christmas Song (Merry Christmas To You)', 'artist': 'Nat King Cole'}, {'title': 'Drip Too Hard', 'artist': 'Lil Baby & Gunna'}, {'title': \"It's The Most Wonderful Time Of The Year\", 'artist': 'Andy Williams'}, {'title': 'Girls Like You', 'artist': 'Maroon 5 Featuring Cardi B'}, {'title': 'ZEZE', 'artist': 'Kodak Black Featuring Travis Scott & Offset'}, {'title': 'Rudolph The Red-Nosed Reindeer', 'artist': 'Gene Autry'}, {'title': 'Mo Bamba', 'artist': 'Sheck Wes'}, {'title': 'Wake Up In The Sky', 'artist': 'Gucci Mane X Bruno Mars X Kodak Black'}, {'title': 'Money', 'artist': 'Cardi B'}, {'title': 'Let It Snow, Let It Snow, Let It Snow', 'artist': 'Dean Martin'}, {'title': 'Eastside', 'artist': 'benny blanco, Halsey & Khalid'}, {'title': 'Breathin', 'artist': 'Ariana Grande'}, {'title': 'Better Now', 'artist': 'Post Malone'}, {'title': 'Youngblood', 'artist': '5 Seconds Of Summer'}, {'title': 'Last Christmas', 'artist': 'Wham!'}, {'title': 'Sleigh Ride', 'artist': 'The Ronettes'}, {'title': 'Lucid Dreams', 'artist': 'Juice WRLD'}, {'title': 'Here Comes Santa Claus (Right Down Santa Claus Lane)', 'artist': 'Gene Autry'}, {'title': 'Feliz Navidad', 'artist': 'Jose Feliciano'}, {'title': 'Taki Taki', 'artist': 'DJ Snake Featuring Selena Gomez, Ozuna & Cardi B'}, {'title': 'MIA', 'artist': 'Bad Bunny Featuring Drake'}, {'title': \"(There's No Place Like) Home For The Holidays\", 'artist': 'Perry Como'}, {'title': 'Leave Me Alone', 'artist': 'Flipp Dinero'}, {'title': 'White Christmas', 'artist': 'Bing Crosby'}, {'title': \"It's Beginning To Look A Lot Like Christmas\", 'artist': 'Perry Como And The Fontane Sisters With Mitchell Ayres And His Orchestra'}, {'title': 'Going Bad', 'artist': 'Meek Mill Featuring Drake'}, {'title': 'A Lot', 'artist': '21 Savage'}, {'title': 'Trip', 'artist': 'Ella Mai'}, {'title': 'I Like It', 'artist': 'Cardi B, Bad Bunny & J Balvin'}, {'title': 'Blue Christmas', 'artist': 'Elvis Presley'}, {'title': 'Speechless', 'artist': 'Dan + Shay'}, {'title': 'Happy Xmas (War Is Over)', 'artist': 'John & Yoko/The Plastic Ono Band With The Harlem Community Choir'}, {'title': 'Christmas (Baby Please Come Home)', 'artist': 'Darlene Love'}, {'title': 'Underneath The Tree', 'artist': 'Kelly Clarkson'}, {'title': 'Run Rudolph Run', 'artist': 'Chuck Berry'}, {'title': 'Natural', 'artist': 'Imagine Dragons'}, {'title': 'Wow.', 'artist': 'Post Malone'}, {'title': 'Love Lies', 'artist': 'Khalid & Normani'}, {'title': 'Jingle Bells', 'artist': 'Frank Sinatra'}, {'title': 'Beautiful', 'artist': 'Bazzi Featuring Camila Cabello'}, {'title': 'Better', 'artist': 'Khalid'}, {'title': 'Shallow', 'artist': 'Lady Gaga & Bradley Cooper'}, {'title': 'Cozy Little Christmas', 'artist': 'Katy Perry'}, {'title': 'She Got The Best Of Me', 'artist': 'Luke Combs'}, {'title': 'The Christmas Song', 'artist': 'Lauren Daigle'}, {'title': 'Uproar', 'artist': 'Lil Wayne'}, {'title': 'Swervin', 'artist': 'A Boogie Wit da Hoodie Featuring 6ix9ine'}, {'title': \"Can't Leave Without It\", 'artist': '21 Savage'}, {'title': 'You Say', 'artist': 'Lauren Daigle'}, {'title': 'Close To Me', 'artist': 'Ellie Goulding X Diplo Featuring Swae Lee'}, {'title': 'Best Shot', 'artist': 'Jimmie Allen'}, {'title': 'Dangerous', 'artist': 'Meek Mill Featuring Jeremih & PnB Rock'}, {'title': 'Be Alright', 'artist': 'Dean Lewis'}, {'title': 'Drunk Me', 'artist': 'Mitchell Tenpenny'}, {'title': 'Startender', 'artist': 'A Boogie Wit da Hoodie Featuring Offset & Tyga'}, {'title': 'Look Back At It', 'artist': 'A Boogie Wit da Hoodie'}, {'title': 'All My Friends', 'artist': '21 Savage'}, {'title': 'BAD!', 'artist': 'XXXTENTACION'}, {'title': \"Backin' It Up\", 'artist': 'Pardison Fontaine Featuring Cardi B'}, {'title': 'Break Da Law', 'artist': '21 Savage'}, {'title': 'Imagine', 'artist': 'Ariana Grande'}, {'title': 'Talk To Me', 'artist': 'Tory Lanez & Rich The Kid'}, {'title': 'Monster', 'artist': '21 Savage'}, {'title': 'Calling My Spirit', 'artist': 'Kodak Black'}, {'title': 'Consequences', 'artist': 'Camila Cabello'}, {'title': 'Armed And Dangerous', 'artist': 'Juice WRLD'}, {'title': 'Arms Around You', 'artist': 'XXXTENTACION x Lil Pump Featuring Maluma & Swae Lee'}, {'title': 'Nothing Breaks Like A Heart', 'artist': 'Mark Ronson Featuring Miley Cyrus'}, {'title': 'Sixteen', 'artist': 'Thomas Rhett'}, {'title': 'Burning Man', 'artist': 'Dierks Bentley Featuring Brothers Osborne'}, {'title': 'Beautiful Crazy', 'artist': 'Luke Combs'}, {'title': \"When The Party's Over\", 'artist': 'Billie Eilish'}, {'title': 'Sweet But Psycho', 'artist': 'Ava Max'}, {'title': 'This Feeling', 'artist': 'The Chainsmokers Featuring Kelsea Ballerini'}, {'title': 'You', 'artist': 'Jacquees'}, {'title': '1.5', 'artist': '21 Savage'}, {'title': 'Girl Like You', 'artist': 'Jason Aldean'}, {'title': 'Out For The Night', 'artist': '21 Savage'}, {'title': 'Good Girl', 'artist': 'Dustin Lynch'}, {'title': 'No Stylist', 'artist': 'French Montana Featuring Drake'}, {'title': 'Lovely', 'artist': 'Billie Eilish & Khalid'}, {'title': 'Ella Quiere Beber', 'artist': 'Anuel AA & Romeo Santos'}, {'title': 'Gun Smoke', 'artist': '21 Savage'}, {'title': 'Demons And Angels', 'artist': 'A Boogie Wit da Hoodie Featuring Juice WRLD'}, {'title': 'ASMR', 'artist': '21 Savage'}, {'title': 'Last Shot', 'artist': 'Kip Moore'}, {'title': 'Fine China', 'artist': 'Future & Juice WRLD'}, {'title': 'Envy Me', 'artist': 'Calboy'}, {'title': 'Lost In Japan', 'artist': 'Shawn Mendes X Zedd'}, {'title': 'This Is It', 'artist': 'Scotty McCreery'}], datetime.date(2019, 2, 1): [{'title': '7 Rings', 'artist': 'Ariana Grande'}, {'title': 'Without Me', 'artist': 'Halsey'}, {'title': 'Sunflower (Spider-Man: Into The Spider-Verse)', 'artist': 'Post Malone & Swae Lee'}, {'title': 'Thank U, Next', 'artist': 'Ariana Grande'}, {'title': 'Sicko Mode', 'artist': 'Travis Scott'}, {'title': 'High Hopes', 'artist': 'Panic! At The Disco'}, {'title': 'Happier', 'artist': 'Marshmello & Bastille'}, {'title': 'Wow.', 'artist': 'Post Malone'}, {'title': 'Girls Like You', 'artist': 'Maroon 5 Featuring Cardi B'}, {'title': 'Drip Too Hard', 'artist': 'Lil Baby & Gunna'}, {'title': 'Eastside', 'artist': 'benny blanco, Halsey & Khalid'}, {'title': 'ZEZE', 'artist': 'Kodak Black Featuring Travis Scott & Offset'}, {'title': 'Money', 'artist': 'Cardi B'}, {'title': 'Going Bad', 'artist': 'Meek Mill Featuring Drake'}, {'title': 'Wake Up In The Sky', 'artist': 'Gucci Mane X Bruno Mars X Kodak Black'}, {'title': 'Mo Bamba', 'artist': 'Sheck Wes'}, {'title': 'Youngblood', 'artist': '5 Seconds Of Summer'}, {'title': 'Taki Taki', 'artist': 'DJ Snake Featuring Selena Gomez, Ozuna & Cardi B'}, {'title': 'MIA', 'artist': 'Bad Bunny Featuring Drake'}, {'title': 'Better Now', 'artist': 'Post Malone'}, {'title': 'Leave Me Alone', 'artist': 'Flipp Dinero'}, {'title': 'Breathin', 'artist': 'Ariana Grande'}, {'title': 'Better', 'artist': 'Khalid'}, {'title': 'Shallow', 'artist': 'Lady Gaga & Bradley Cooper'}, {'title': 'Lucid Dreams', 'artist': 'Juice WRLD'}, {'title': 'Middle Child', 'artist': 'J. Cole'}, {'title': 'Beautiful', 'artist': 'Bazzi Featuring Camila Cabello'}, {'title': 'Close To Me', 'artist': 'Ellie Goulding X Diplo Featuring Swae Lee'}, {'title': 'Twerk', 'artist': 'City Girls Featuring Cardi B'}, {'title': 'Trip', 'artist': 'Ella Mai'}, {'title': 'Speechless', 'artist': 'Dan + Shay'}, {'title': 'Love Lies', 'artist': 'Khalid & Normani'}, {'title': 'Lost In The Fire', 'artist': 'Gesaffelstein & The Weeknd'}, {'title': 'A Lot', 'artist': '21 Savage'}, {'title': 'Sweet But Psycho', 'artist': 'Ava Max'}, {'title': 'Baby Shark', 'artist': 'Pinkfong'}, {'title': 'I Like It', 'artist': 'Cardi B, Bad Bunny & J Balvin'}, {'title': 'Keanu Reeves', 'artist': 'Logic'}, {'title': 'You Say', 'artist': 'Lauren Daigle'}, {'title': \"Backin' It Up\", 'artist': 'Pardison Fontaine Featuring Cardi B'}, {'title': 'Dancing With A Stranger', 'artist': 'Sam Smith & Normani'}, {'title': 'Beautiful Crazy', 'artist': 'Luke Combs'}, {'title': 'Crushed Up', 'artist': 'Future'}, {'title': 'Look Back At It', 'artist': 'A Boogie Wit da Hoodie'}, {'title': 'Envy Me', 'artist': 'Calboy'}, {'title': 'Swervin', 'artist': 'A Boogie Wit da Hoodie Featuring 6ix9ine'}, {'title': 'First Off', 'artist': 'Future Featuring Travis Scott'}, {'title': 'Burning Man', 'artist': 'Dierks Bentley Featuring Brothers Osborne'}, {'title': 'Sixteen', 'artist': 'Thomas Rhett'}, {'title': 'Natural', 'artist': 'Imagine Dragons'}, {'title': 'Girl Like You', 'artist': 'Jason Aldean'}, {'title': 'Be Alright', 'artist': 'Dean Lewis'}, {'title': 'This Is It', 'artist': 'Scotty McCreery'}, {'title': 'Nothing Breaks Like A Heart', 'artist': 'Mark Ronson Featuring Miley Cyrus'}, {'title': 'Undecided', 'artist': 'Chris Brown'}, {'title': 'This Feeling', 'artist': 'The Chainsmokers Featuring Kelsea Ballerini'}, {'title': 'Jumpin On A Jet', 'artist': 'Future'}, {'title': 'Good Girl', 'artist': 'Dustin Lynch'}, {'title': 'Uproar', 'artist': 'Lil Wayne'}, {'title': 'Best Shot', 'artist': 'Jimmie Allen'}, {'title': 'Ella Quiere Beber', 'artist': 'Anuel AA & Romeo Santos'}, {'title': 'Calling My Spirit', 'artist': 'Kodak Black'}, {'title': 'Armed And Dangerous', 'artist': 'Juice WRLD'}, {'title': 'Arms Around You', 'artist': 'XXXTENTACION x Lil Pump Featuring Maluma & Swae Lee'}, {'title': 'Never Stop', 'artist': 'Future'}, {'title': 'Thotiana', 'artist': 'Blueface'}, {'title': 'You', 'artist': 'Jacquees'}, {'title': 'Secreto', 'artist': 'Anuel AA & Karol G'}, {'title': 'No Stylist', 'artist': 'French Montana Featuring Drake'}, {'title': 'What Makes You Country', 'artist': 'Luke Bryan'}, {'title': 'Mixed Personalities', 'artist': 'YNW Melly Featuring Kanye West'}, {'title': 'Consequences', 'artist': 'Camila Cabello'}, {'title': 'Millionaire', 'artist': 'Chris Stapleton'}, {'title': 'Yosemite', 'artist': 'Travis Scott'}, {'title': 'Saturday Nights', 'artist': 'Khalid & Kane Brown'}, {'title': 'Temptation', 'artist': 'Future'}, {'title': 'Ruin My Life', 'artist': 'Zara Larsson'}, {'title': 'Take It From Me', 'artist': 'Jordan Davis'}, {'title': 'Rocket Ship', 'artist': 'Future'}, {'title': 'Startender', 'artist': 'A Boogie Wit da Hoodie Featuring Offset & Tyga'}, {'title': 'Pure Water', 'artist': 'Mustard & Migos'}, {'title': 'Lovely', 'artist': 'Billie Eilish & Khalid'}, {'title': 'F&N', 'artist': 'Future'}, {'title': 'Down To The Honkytonk', 'artist': 'Jake Owen'}, {'title': 'Body', 'artist': 'Loud Luxury Featuring Brando'}, {'title': 'Love Someone', 'artist': 'Lukas Graham'}, {'title': \"When The Party's Over\", 'artist': 'Billie Eilish'}, {'title': 'Nights Like This', 'artist': 'Kehlani Featuring Ty Dolla $ign'}, {'title': 'Pure Cocaine', 'artist': 'Lil Baby'}, {'title': 'Electricity', 'artist': 'Silk City x Dua Lipa'}, {'title': 'On My Way To You', 'artist': 'Cody Johnson'}, {'title': 'Make It Sweet', 'artist': 'Old Dominion'}, {'title': 'Love Wins', 'artist': 'Carrie Underwood'}, {'title': 'Talk To Me', 'artist': 'Tory Lanez & Rich The Kid'}, {'title': 'Murder On My Mind', 'artist': 'YNW Melly'}, {'title': 'GIRL', 'artist': 'Maren Morris'}, {'title': 'Roses', 'artist': 'benny blanco & Juice WRLD Featuring Brendon Urie'}, {'title': 'Face My Fears', 'artist': 'Hikaru Utada & Skrillex'}, {'title': 'Imagine', 'artist': 'Ariana Grande'}, {'title': 'Call The Coroner', 'artist': 'Future'}], datetime.date(2019, 3, 1): [{'title': '7 Rings', 'artist': 'Ariana Grande'}, {'title': 'Without Me', 'artist': 'Halsey'}, {'title': 'Sunflower (Spider-Man: Into The Spider-Verse)', 'artist': 'Post Malone & Swae Lee'}, {'title': 'Thank U, Next', 'artist': 'Ariana Grande'}, {'title': 'Please Me', 'artist': 'Cardi B & Bruno Mars'}, {'title': 'Happier', 'artist': 'Marshmello & Bastille'}, {'title': 'Sicko Mode', 'artist': 'Travis Scott'}, {'title': \"Break Up With Your Girlfriend, I'm Bored\", 'artist': 'Ariana Grande'}, {'title': 'High Hopes', 'artist': 'Panic! At The Disco'}, {'title': 'Wow.', 'artist': 'Post Malone'}, {'title': 'Middle Child', 'artist': 'J. Cole'}, {'title': 'Eastside', 'artist': 'benny blanco, Halsey & Khalid'}, {'title': 'Thotiana', 'artist': 'Blueface'}, {'title': 'Murder On My Mind', 'artist': 'YNW Melly'}, {'title': 'Going Bad', 'artist': 'Meek Mill Featuring Drake'}, {'title': 'Money', 'artist': 'Cardi B'}, {'title': 'A Lot', 'artist': '21 Savage'}, {'title': 'Drip Too Hard', 'artist': 'Lil Baby & Gunna'}, {'title': 'Girls Like You', 'artist': 'Maroon 5 Featuring Cardi B'}, {'title': 'Better', 'artist': 'Khalid'}, {'title': 'Shallow', 'artist': 'Lady Gaga & Bradley Cooper'}, {'title': 'ZEZE', 'artist': 'Kodak Black Featuring Travis Scott & Offset'}, {'title': 'Beautiful Crazy', 'artist': 'Luke Combs'}, {'title': 'MIA', 'artist': 'Bad Bunny Featuring Drake'}, {'title': 'Dancing With A Stranger', 'artist': 'Sam Smith & Normani'}, {'title': 'Youngblood', 'artist': '5 Seconds Of Summer'}, {'title': 'Robbery', 'artist': 'Juice WRLD'}, {'title': 'Better Now', 'artist': 'Post Malone'}, {'title': 'Sweet But Psycho', 'artist': 'Ava Max'}, {'title': 'Be Alright', 'artist': 'Dean Lewis'}, {'title': 'Tequila', 'artist': 'Dan + Shay'}, {'title': 'Bury A Friend', 'artist': 'Billie Eilish'}, {'title': 'I Like It', 'artist': 'Cardi B, Bad Bunny & J Balvin'}, {'title': 'You Say', 'artist': 'Lauren Daigle'}, {'title': 'Leave Me Alone', 'artist': 'Flipp Dinero'}, {'title': 'Wake Up In The Sky', 'artist': 'Gucci Mane X Bruno Mars X Kodak Black'}, {'title': 'Close To Me', 'artist': 'Ellie Goulding X Diplo Featuring Swae Lee'}, {'title': 'Baby Shark', 'artist': 'Pinkfong'}, {'title': 'Look Back At It', 'artist': 'A Boogie Wit da Hoodie'}, {'title': 'Mo Bamba', 'artist': 'Sheck Wes'}, {'title': 'Lucid Dreams', 'artist': 'Juice WRLD'}, {'title': 'Envy Me', 'artist': 'Calboy'}, {'title': 'Swervin', 'artist': 'A Boogie Wit da Hoodie Featuring 6ix9ine'}, {'title': 'Taki Taki', 'artist': 'DJ Snake Featuring Selena Gomez, Ozuna & Cardi B'}, {'title': 'This Is It', 'artist': 'Scotty McCreery'}, {'title': 'NASA', 'artist': 'Ariana Grande'}, {'title': \"Backin' It Up\", 'artist': 'Pardison Fontaine Featuring Cardi B'}, {'title': 'Needy', 'artist': 'Ariana Grande'}, {'title': 'Red Room', 'artist': 'Offset'}, {'title': 'Talk', 'artist': 'Khalid'}, {'title': 'Girl Like You', 'artist': 'Jason Aldean'}, {'title': 'Twerk', 'artist': 'City Girls Featuring Cardi B'}, {'title': 'Bloodline', 'artist': 'Ariana Grande'}, {'title': 'What Makes You Country', 'artist': 'Luke Bryan'}, {'title': 'Bad Idea', 'artist': 'Ariana Grande'}, {'title': 'Pure Water', 'artist': 'Mustard & Migos'}, {'title': 'Fake Smile', 'artist': 'Ariana Grande'}, {'title': 'Imagine', 'artist': 'Ariana Grande'}, {'title': 'Take It From Me', 'artist': 'Jordan Davis'}, {'title': 'Mixed Personalities', 'artist': 'YNW Melly Featuring Kanye West'}, {'title': 'Lost In The Fire', 'artist': 'Gesaffelstein & The Weeknd'}, {'title': 'Ghostin', 'artist': 'Ariana Grande'}, {'title': 'Nothing Breaks Like A Heart', 'artist': 'Mark Ronson Featuring Miley Cyrus'}, {'title': 'This Feeling', 'artist': 'The Chainsmokers Featuring Kelsea Ballerini'}, {'title': 'Undecided', 'artist': 'Chris Brown'}, {'title': 'Millionaire', 'artist': 'Chris Stapleton'}, {'title': 'Here Tonight', 'artist': 'Brett Young'}, {'title': 'Calling My Spirit', 'artist': 'Kodak Black'}, {'title': 'Sixteen', 'artist': 'Thomas Rhett'}, {'title': 'Love Someone', 'artist': 'Lukas Graham'}, {'title': 'Armed And Dangerous', 'artist': 'Juice WRLD'}, {'title': 'Nights Like This', 'artist': 'Kehlani Featuring Ty Dolla $ign'}, {'title': 'Close Friends', 'artist': 'Lil Baby'}, {'title': 'In My Head', 'artist': 'Ariana Grande'}, {'title': 'Put A Date On It', 'artist': 'Yo Gotti Featuring Lil Baby'}, {'title': 'Pure Cocaine', 'artist': 'Lil Baby'}, {'title': 'Down To The Honkytonk', 'artist': 'Jake Owen'}, {'title': 'Ella Quiere Beber', 'artist': 'Anuel AA & Romeo Santos'}, {'title': 'Lovely', 'artist': 'Billie Eilish & Khalid'}, {'title': 'Talk You Out Of It', 'artist': 'Florida Georgia Line'}, {'title': 'Miss Me More', 'artist': 'Kelsea Ballerini'}, {'title': 'Body', 'artist': 'Loud Luxury Featuring Brando'}, {'title': 'Burn Out', 'artist': 'Midland'}, {'title': 'Eyes On You', 'artist': 'Chase Rice'}, {'title': 'Who Do You Love', 'artist': 'The Chainsmokers Featuring 5 Seconds Of Summer'}, {'title': '365', 'artist': 'Zedd & Katy Perry'}, {'title': 'Worth It', 'artist': 'YK Osiris'}, {'title': \"When The Party's Over\", 'artist': 'Billie Eilish'}, {'title': 'Yosemite', 'artist': 'Travis Scott'}, {'title': 'Shot Clock', 'artist': 'Ella Mai'}, {'title': 'There Was This Girl', 'artist': 'Riley Green'}, {'title': 'Con Calma', 'artist': 'Daddy Yankee & Katy Perry Featuring Snow'}, {'title': 'On My Way To You', 'artist': 'Cody Johnson'}, {'title': 'Let Me Down Slowly', 'artist': 'Alec Benjamin + Alessia Cara'}, {'title': 'Make Up', 'artist': 'Ariana Grande'}, {'title': 'Make It Sweet', 'artist': 'Old Dominion'}, {'title': 'Good Girl', 'artist': 'Dustin Lynch'}, {'title': 'Arms Around You', 'artist': 'XXXTENTACION x Lil Pump Featuring Maluma & Swae Lee'}, {'title': 'Startender', 'artist': 'A Boogie Wit da Hoodie Featuring Offset & Tyga'}, {'title': 'One That Got Away', 'artist': 'Michael Ray'}], datetime.date(2019, 4, 1): [{'title': '7 Rings', 'artist': 'Ariana Grande'}, {'title': 'Wow.', 'artist': 'Post Malone'}, {'title': 'Sunflower (Spider-Man: Into The Spider-Verse)', 'artist': 'Post Malone & Swae Lee'}, {'title': 'Without Me', 'artist': 'Halsey'}, {'title': 'Please Me', 'artist': 'Cardi B & Bruno Mars'}, {'title': 'Happier', 'artist': 'Marshmello & Bastille'}, {'title': 'Middle Child', 'artist': 'J. Cole'}, {'title': 'Thotiana', 'artist': 'Blueface'}, {'title': 'Sucker', 'artist': 'Jonas Brothers'}, {'title': 'Shallow', 'artist': 'Lady Gaga & Bradley Cooper'}, {'title': 'Eastside', 'artist': 'benny blanco, Halsey & Khalid'}, {'title': 'Going Bad', 'artist': 'Meek Mill Featuring Drake'}, {'title': 'High Hopes', 'artist': 'Panic! At The Disco'}, {'title': \"Break Up With Your Girlfriend, I'm Bored\", 'artist': 'Ariana Grande'}, {'title': 'Old Town Road', 'artist': 'Lil Nas X Featuring Billy Ray Cyrus'}, {'title': 'Better', 'artist': 'Khalid'}, {'title': 'Dancing With A Stranger', 'artist': 'Sam Smith & Normani'}, {'title': 'Sicko Mode', 'artist': 'Travis Scott'}, {'title': 'Murder On My Mind', 'artist': 'YNW Melly'}, {'title': 'Sweet But Psycho', 'artist': 'Ava Max'}, {'title': 'Thank U, Next', 'artist': 'Ariana Grande'}, {'title': 'A Lot', 'artist': '21 Savage'}, {'title': 'Girls Like You', 'artist': 'Maroon 5 Featuring Cardi B'}, {'title': 'Be Alright', 'artist': 'Dean Lewis'}, {'title': 'Beautiful Crazy', 'artist': 'Luke Combs'}, {'title': 'Drip Too Hard', 'artist': 'Lil Baby & Gunna'}, {'title': 'Close To Me', 'artist': 'Ellie Goulding X Diplo Featuring Swae Lee'}, {'title': 'Money', 'artist': 'Cardi B'}, {'title': 'Better Now', 'artist': 'Post Malone'}, {'title': 'You Say', 'artist': 'Lauren Daigle'}, {'title': 'Pure Water', 'artist': 'Mustard & Migos'}, {'title': 'Youngblood', 'artist': '5 Seconds Of Summer'}, {'title': 'Baby Shark', 'artist': 'Pinkfong'}, {'title': 'MIA', 'artist': 'Bad Bunny Featuring Drake'}, {'title': 'Look Back At It', 'artist': 'A Boogie Wit da Hoodie'}, {'title': 'Envy Me', 'artist': 'Calboy'}, {'title': 'Robbery', 'artist': 'Juice WRLD'}, {'title': 'ZEZE', 'artist': 'Kodak Black Featuring Travis Scott & Offset'}, {'title': 'Tequila', 'artist': 'Dan + Shay'}, {'title': 'Talk', 'artist': 'Khalid'}, {'title': 'Bury A Friend', 'artist': 'Billie Eilish'}, {'title': 'Mixed Personalities', 'artist': 'YNW Melly Featuring Kanye West'}, {'title': 'Act Up', 'artist': 'City Girls'}, {'title': 'Swervin', 'artist': 'A Boogie Wit da Hoodie Featuring 6ix9ine'}, {'title': 'I Like It', 'artist': 'Cardi B, Bad Bunny & J Balvin'}, {'title': 'Put A Date On It', 'artist': 'Yo Gotti Featuring Lil Baby'}, {'title': 'Lucid Dreams', 'artist': 'Juice WRLD'}, {'title': 'Taki Taki', 'artist': 'DJ Snake Featuring Selena Gomez, Ozuna & Cardi B'}, {'title': 'Con Calma', 'artist': 'Daddy Yankee & Katy Perry Featuring Snow'}, {'title': 'Twerk', 'artist': 'City Girls Featuring Cardi B'}, {'title': 'Here Tonight', 'artist': 'Brett Young'}, {'title': 'Who Do You Love', 'artist': 'The Chainsmokers Featuring 5 Seconds Of Summer'}, {'title': 'Here With Me', 'artist': 'Marshmello Featuring CHVRCHES'}, {'title': 'Eyes On You', 'artist': 'Chase Rice'}, {'title': 'Worth It', 'artist': 'YK Osiris'}, {'title': 'Bad Liar', 'artist': 'Imagine Dragons'}, {'title': 'Close Friends', 'artist': 'Lil Baby'}, {'title': 'Girls Need Love', 'artist': 'Summer Walker X Drake'}, {'title': 'Good As You', 'artist': 'Kane Brown'}, {'title': 'Miss Me More', 'artist': 'Kelsea Ballerini'}, {'title': 'Undrunk', 'artist': 'FLETCHER'}, {'title': 'Shot Clock', 'artist': 'Ella Mai'}, {'title': 'Walk Me Home', 'artist': 'P!nk'}, {'title': 'Millionaire', 'artist': 'Chris Stapleton'}, {'title': 'Down To The Honkytonk', 'artist': 'Jake Owen'}, {'title': 'Whiskey Glasses', 'artist': 'Morgan Wallen'}, {'title': 'One That Got Away', 'artist': 'Michael Ray'}, {'title': 'This Is It', 'artist': 'Scotty McCreery'}, {'title': 'Look What God Gave Her', 'artist': 'Thomas Rhett'}, {'title': 'Pure Cocaine', 'artist': 'Lil Baby'}, {'title': 'There Was This Girl', 'artist': 'Riley Green'}, {'title': 'Price On My Head', 'artist': 'NAV Featuring The Weeknd'}, {'title': 'Saturday Nights', 'artist': 'Khalid & Kane Brown'}, {'title': 'Make It Sweet', 'artist': 'Old Dominion'}, {'title': \"I've Been Waiting\", 'artist': 'Lil Peep & iLoveMakonnen Featuring Fall Out Boy'}, {'title': 'Girl Like You', 'artist': 'Jason Aldean'}, {'title': 'GIRL', 'artist': 'Maren Morris'}, {'title': 'Confessions Of A Dangerous Mind', 'artist': 'Logic'}, {'title': 'Take It From Me', 'artist': 'Jordan Davis'}, {'title': 'Splashin', 'artist': 'Rich The Kid'}, {'title': 'Night Shift', 'artist': 'Jon Pardi'}, {'title': 'I', 'artist': 'Lil Skies'}, {'title': 'Rumor', 'artist': 'Lee Brice'}, {'title': 'Wish You Were Gay', 'artist': 'Billie Eilish'}, {'title': \"I Can't Get Enough\", 'artist': 'benny blanco, Tainy, Selena Gomez & J Balvin'}, {'title': 'Hear Me Calling', 'artist': 'Juice WRLD'}, {'title': 'Faucet Failure', 'artist': 'Ski Mask The Slump God'}, {'title': 'Talk You Out Of It', 'artist': 'Florida Georgia Line'}, {'title': 'Tap', 'artist': 'NAV Featuring Meek Mill'}, {'title': 'Calma', 'artist': 'Pedro Capo X Farruko'}, {'title': 'Undecided', 'artist': 'Chris Brown'}, {'title': 'On My Way To You', 'artist': 'Cody Johnson'}, {'title': 'Secreto', 'artist': 'Anuel AA & Karol G'}, {'title': 'Calling My Spirit', 'artist': 'Kodak Black'}, {'title': 'Pop Out', 'artist': 'Polo G Featuring Lil Tjay'}, {'title': 'Lovely', 'artist': 'Billie Eilish & Khalid'}, {'title': \"Don't Call Me Up\", 'artist': 'Mabel'}, {'title': 'Last Hurrah', 'artist': 'Bebe Rexha'}, {'title': 'Empty', 'artist': 'Juice WRLD'}, {'title': 'Love Wins', 'artist': 'Carrie Underwood'}], datetime.date(2019, 5, 1): [{'title': 'Old Town Road', 'artist': 'Lil Nas X Featuring Billy Ray Cyrus'}, {'title': 'Wow.', 'artist': 'Post Malone'}, {'title': 'Sunflower (Spider-Man: Into The Spider-Verse)', 'artist': 'Post Malone & Swae Lee'}, {'title': '7 Rings', 'artist': 'Ariana Grande'}, {'title': 'Sucker', 'artist': 'Jonas Brothers'}, {'title': 'Without Me', 'artist': 'Halsey'}, {'title': 'Dancing With A Stranger', 'artist': 'Sam Smith & Normani'}, {'title': 'Talk', 'artist': 'Khalid'}, {'title': 'Bad Guy', 'artist': 'Billie Eilish'}, {'title': 'Middle Child', 'artist': 'J. Cole'}, {'title': 'Sweet But Psycho', 'artist': 'Ava Max'}, {'title': 'Happier', 'artist': 'Marshmello & Bastille'}, {'title': 'Please Me', 'artist': 'Cardi B & Bruno Mars'}, {'title': \"Break Up With Your Girlfriend, I'm Bored\", 'artist': 'Ariana Grande'}, {'title': 'Shallow', 'artist': 'Lady Gaga & Bradley Cooper'}, {'title': 'Going Bad', 'artist': 'Meek Mill Featuring Drake'}, {'title': 'Earth', 'artist': 'Lil Dicky'}, {'title': 'Eastside', 'artist': 'benny blanco, Halsey & Khalid'}, {'title': 'Better', 'artist': 'Khalid'}, {'title': 'High Hopes', 'artist': 'Panic! At The Disco'}, {'title': 'Thotiana', 'artist': 'Blueface'}, {'title': 'Girls Like You', 'artist': 'Maroon 5 Featuring Cardi B'}, {'title': 'Pure Water', 'artist': 'Mustard & Migos'}, {'title': 'A Lot', 'artist': '21 Savage'}, {'title': 'Sicko Mode', 'artist': 'Travis Scott'}, {'title': 'Beautiful Crazy', 'artist': 'Luke Combs'}, {'title': 'Be Alright', 'artist': 'Dean Lewis'}, {'title': 'Look Back At It', 'artist': 'A Boogie Wit da Hoodie'}, {'title': 'Close To Me', 'artist': 'Ellie Goulding X Diplo Featuring Swae Lee'}, {'title': 'Act Up', 'artist': 'City Girls'}, {'title': 'Envy Me', 'artist': 'Calboy'}, {'title': 'Sanguine Paradise', 'artist': 'Lil Uzi Vert'}, {'title': 'Drip Too Hard', 'artist': 'Lil Baby & Gunna'}, {'title': 'Con Calma', 'artist': 'Daddy Yankee & Katy Perry Featuring Snow'}, {'title': 'Murder On My Mind', 'artist': 'YNW Melly'}, {'title': 'Bury A Friend', 'artist': 'Billie Eilish'}, {'title': 'Here With Me', 'artist': 'Marshmello Featuring CHVRCHES'}, {'title': \"When The Party's Over\", 'artist': 'Billie Eilish'}, {'title': 'Clout', 'artist': 'Offset Featuring Cardi B'}, {'title': 'Boy With Luv', 'artist': 'BTS Featuring Halsey'}, {'title': 'Thank U, Next', 'artist': 'Ariana Grande'}, {'title': 'Better Now', 'artist': 'Post Malone'}, {'title': \"God's Country\", 'artist': 'Blake Shelton'}, {'title': 'Eyes On You', 'artist': 'Chase Rice'}, {'title': 'You Say', 'artist': 'Lauren Daigle'}, {'title': 'Suge', 'artist': 'DaBaby'}, {'title': 'Baby Shark', 'artist': 'Pinkfong'}, {'title': 'Whiskey Glasses', 'artist': 'Morgan Wallen'}, {'title': 'Here Tonight', 'artist': 'Brett Young'}, {'title': 'Youngblood', 'artist': '5 Seconds Of Summer'}, {'title': 'Racks In The Middle', 'artist': 'Nipsey Hussle Featuring Roddy Ricch & Hit-Boy'}, {'title': 'Good As You', 'artist': 'Kane Brown'}, {'title': 'Look What God Gave Her', 'artist': 'Thomas Rhett'}, {'title': 'Swervin', 'artist': 'A Boogie Wit da Hoodie Featuring 6ix9ine'}, {'title': 'Who Do You Love', 'artist': 'The Chainsmokers Featuring 5 Seconds Of Summer'}, {'title': 'Make It Sweet', 'artist': 'Old Dominion'}, {'title': 'Close Friends', 'artist': 'Lil Baby'}, {'title': 'Worth It', 'artist': 'YK Osiris'}, {'title': 'Miss Me More', 'artist': 'Kelsea Ballerini'}, {'title': 'Pop Out', 'artist': 'Polo G Featuring Lil Tjay'}, {'title': 'Night Shift', 'artist': 'Jon Pardi'}, {'title': 'Walk Me Home', 'artist': 'P!nk'}, {'title': 'Mixed Personalities', 'artist': 'YNW Melly Featuring Kanye West'}, {'title': \"I've Been Waiting\", 'artist': 'Lil Peep & iLoveMakonnen Featuring Fall Out Boy'}, {'title': 'You Should See Me In A Crown', 'artist': 'Billie Eilish'}, {'title': 'Robbery', 'artist': 'Juice WRLD'}, {'title': 'Rumor', 'artist': 'Lee Brice'}, {'title': \"Love Ain't\", 'artist': 'Eli Young Band'}, {'title': 'Cool', 'artist': 'Jonas Brothers'}, {'title': \"Don't Call Me Up\", 'artist': 'Mabel'}, {'title': 'Calma', 'artist': 'Pedro Capo X Farruko'}, {'title': 'Girls Need Love', 'artist': 'Summer Walker X Drake'}, {'title': 'Wish You Were Gay', 'artist': 'Billie Eilish'}, {'title': 'GIRL', 'artist': 'Maren Morris'}, {'title': 'Before I Let Go', 'artist': 'Beyonce'}, {'title': 'Big Ole Freak', 'artist': 'Megan Thee Stallion'}, {'title': 'Put A Date On It', 'artist': 'Yo Gotti Featuring Lil Baby'}, {'title': 'Talk You Out Of It', 'artist': 'Florida Georgia Line'}, {'title': 'Shot Clock', 'artist': 'Ella Mai'}, {'title': 'Hey Look Ma, I Made It', 'artist': 'Panic! At The Disco'}, {'title': \"I'm So Tired...\", 'artist': 'Lauv & Troye Sivan'}, {'title': \"That's A Rack\", 'artist': 'Lil Uzi Vert'}, {'title': 'Secreto', 'artist': 'Anuel AA & Karol G'}, {'title': 'Ocean Eyes', 'artist': 'Billie Eilish'}, {'title': 'Bad Liar', 'artist': 'Imagine Dragons'}, {'title': 'Kill This Love', 'artist': 'BLACKPINK'}, {'title': 'SOS', 'artist': 'Avicii Featuring Aloe Blacc'}, {'title': 'Faucet Failure', 'artist': 'Ski Mask The Slump God'}, {'title': 'On My Way To You', 'artist': 'Cody Johnson'}, {'title': 'Slide', 'artist': 'French Montana Featuring Blueface & Lil Tjay'}, {'title': 'Saturday Nights', 'artist': 'Khalid & Kane Brown'}, {'title': 'Pure Cocaine', 'artist': 'Lil Baby'}, {'title': 'Love Someone', 'artist': 'Brett Eldredge'}, {'title': 'This Is It', 'artist': 'Scotty McCreery'}, {'title': 'My Strange Addiction', 'artist': 'Billie Eilish'}, {'title': 'Shotta Flow', 'artist': 'NLE Choppa'}, {'title': 'Let Me Down Slowly', 'artist': 'Alec Benjamin + Alessia Cara'}, {'title': 'Xanny', 'artist': 'Billie Eilish'}, {'title': 'One That Got Away', 'artist': 'Michael Ray'}, {'title': 'ME!', 'artist': 'Taylor Swift Featuring Brendon Urie'}], datetime.date(2019, 6, 1): [{'title': 'Old Town Road', 'artist': 'Lil Nas X Featuring Billy Ray Cyrus'}, {'title': \"I Don't Care\", 'artist': 'Ed Sheeran & Justin Bieber'}, {'title': 'Bad Guy', 'artist': 'Billie Eilish'}, {'title': 'Sucker', 'artist': 'Jonas Brothers'}, {'title': 'Talk', 'artist': 'Khalid'}, {'title': 'Wow.', 'artist': 'Post Malone'}, {'title': 'Sunflower (Spider-Man: Into The Spider-Verse)', 'artist': 'Post Malone & Swae Lee'}, {'title': 'Dancing With A Stranger', 'artist': 'Sam Smith & Normani'}, {'title': 'ME!', 'artist': 'Taylor Swift Featuring Brendon Urie'}, {'title': 'Sweet But Psycho', 'artist': 'Ava Max'}, {'title': 'Without Me', 'artist': 'Halsey'}, {'title': '7 Rings', 'artist': 'Ariana Grande'}, {'title': 'EARFQUAKE', 'artist': 'Tyler, The Creator'}, {'title': 'Suge', 'artist': 'DaBaby'}, {'title': 'Nightmare', 'artist': 'Halsey'}, {'title': \"If I Can't Have You\", 'artist': 'Shawn Mendes'}, {'title': 'Middle Child', 'artist': 'J. Cole'}, {'title': 'Happier', 'artist': 'Marshmello & Bastille'}, {'title': 'Wish Wish', 'artist': 'DJ Khaled Featuring Cardi B & 21 Savage'}, {'title': \"Break Up With Your Girlfriend, I'm Bored\", 'artist': 'Ariana Grande'}, {'title': 'Higher', 'artist': 'DJ Khaled Featuring Nipsey Hussle & John Legend'}, {'title': 'High Hopes', 'artist': 'Panic! At The Disco'}, {'title': 'Going Bad', 'artist': 'Meek Mill Featuring Drake'}, {'title': \"God's Country\", 'artist': 'Blake Shelton'}, {'title': 'Eastside', 'artist': 'benny blanco, Halsey & Khalid'}, {'title': 'Whiskey Glasses', 'artist': 'Morgan Wallen'}, {'title': 'Con Calma', 'artist': 'Daddy Yankee & Katy Perry Featuring Snow'}, {'title': 'Pure Water', 'artist': 'Mustard & Migos'}, {'title': 'Look Back At It', 'artist': 'A Boogie Wit da Hoodie'}, {'title': 'Better', 'artist': 'Khalid'}, {'title': 'Pop Out', 'artist': 'Polo G Featuring Lil Tjay'}, {'title': 'Sicko Mode', 'artist': 'Travis Scott'}, {'title': 'Please Me', 'artist': 'Cardi B & Bruno Mars'}, {'title': 'Act Up', 'artist': 'City Girls'}, {'title': 'Girls Like You', 'artist': 'Maroon 5 Featuring Cardi B'}, {'title': 'Shallow', 'artist': 'Lady Gaga & Bradley Cooper'}, {'title': 'Good As You', 'artist': 'Kane Brown'}, {'title': 'Truth Hurts', 'artist': 'Lizzo'}, {'title': 'Envy Me', 'artist': 'Calboy'}, {'title': \"When The Party's Over\", 'artist': 'Billie Eilish'}, {'title': 'Beer Never Broke My Heart', 'artist': 'Luke Combs'}, {'title': 'Beautiful Crazy', 'artist': 'Luke Combs'}, {'title': 'Just Us', 'artist': 'DJ Khaled Featuring SZA'}, {'title': 'You Stay', 'artist': 'DJ Khaled Featuring Meek Mill, J Balvin, Lil Baby & Jeremih'}, {'title': 'Rumor', 'artist': 'Lee Brice'}, {'title': 'A Lot', 'artist': '21 Savage'}, {'title': 'Hey Look Ma, I Made It', 'artist': 'Panic! At The Disco'}, {'title': 'Here With Me', 'artist': 'Marshmello Featuring CHVRCHES'}, {'title': 'Look What God Gave Her', 'artist': 'Thomas Rhett'}, {'title': 'Thotiana', 'artist': 'Blueface'}, {'title': 'I Think', 'artist': 'Tyler, The Creator'}, {'title': 'Celebrate', 'artist': 'DJ Khaled Featuring Travis Scott & Post Malone'}, {'title': 'Homicide', 'artist': 'Logic Featuring Eminem'}, {'title': 'Eyes On You', 'artist': 'Chase Rice'}, {'title': 'Bury A Friend', 'artist': 'Billie Eilish'}, {'title': 'Clout', 'artist': 'Offset Featuring Cardi B'}, {'title': 'Jealous', 'artist': 'DJ Khaled Featuring Chris Brown, Lil Wayne & Big Sean'}, {'title': 'Walk Me Home', 'artist': 'P!nk'}, {'title': 'Close Friends', 'artist': 'Lil Baby'}, {'title': 'Miss Me More', 'artist': 'Kelsea Ballerini'}, {'title': 'Murder On My Mind', 'artist': 'YNW Melly'}, {'title': 'Worth It', 'artist': 'YK Osiris'}, {'title': 'Sanguine Paradise', 'artist': 'Lil Uzi Vert'}, {'title': 'Put A Date On It', 'artist': 'Yo Gotti Featuring Lil Baby'}, {'title': 'Running Out Of Time', 'artist': 'Tyler, The Creator'}, {'title': \"Love Ain't\", 'artist': 'Eli Young Band'}, {'title': \"Igor's Theme\", 'artist': 'Tyler, The Creator'}, {'title': 'Cool', 'artist': 'Jonas Brothers'}, {'title': 'GIRL', 'artist': 'Maren Morris'}, {'title': 'New Magic Wand', 'artist': 'Tyler, The Creator'}, {'title': 'Boy With Luv', 'artist': 'BTS Featuring Halsey'}, {'title': 'Big Ole Freak', 'artist': 'Megan Thee Stallion'}, {'title': 'Who Do You Love', 'artist': 'The Chainsmokers Featuring 5 Seconds Of Summer'}, {'title': 'A Boy Is A Gun', 'artist': 'Tyler, The Creator'}, {'title': 'Racks In The Middle', 'artist': 'Nipsey Hussle Featuring Roddy Ricch & Hit-Boy'}, {'title': 'Soltera', 'artist': 'Lunay, Daddy Yankee & Bad Bunny'}, {'title': 'Before I Let Go', 'artist': 'Beyonce'}, {'title': 'Earth', 'artist': 'Lil Dicky'}, {'title': \"Don't Call Me Up\", 'artist': 'Mabel'}, {'title': 'Someone You Loved', 'artist': 'Lewis Capaldi'}, {'title': \"Knockin' Boots\", 'artist': 'Luke Bryan'}, {'title': 'Girls Need Love', 'artist': 'Summer Walker X Drake'}, {'title': 'Love Someone', 'artist': 'Brett Eldredge'}, {'title': 'Robbery', 'artist': 'Juice WRLD'}, {'title': \"What's Good\", 'artist': 'Tyler, The Creator'}, {'title': 'What If I Never Get Over You', 'artist': 'Lady Antebellum'}, {'title': 'Shotta Flow', 'artist': 'NLE Choppa'}, {'title': 'Puppet', 'artist': 'Tyler, The Creator'}, {'title': 'Talk You Out Of It', 'artist': 'Florida Georgia Line'}, {'title': 'Night Shift', 'artist': 'Jon Pardi'}, {'title': 'Weather The Storm', 'artist': 'DJ Khaled Featuring Meek Mill & Lil Baby'}, {'title': 'Go Loko', 'artist': 'YG, Tyga & Jon Z'}, {'title': 'All To Myself', 'artist': 'Dan + Shay'}, {'title': 'Triggered', 'artist': 'Jhene Aiko'}, {'title': 'On My Way To You', 'artist': 'Cody Johnson'}, {'title': 'Calma', 'artist': 'Pedro Capo X Farruko'}, {'title': '24/7', 'artist': 'Meek Mill Featuring Ella Mai'}, {'title': 'Here Tonight', 'artist': 'Brett Young'}, {'title': 'Baila Baila Baila', 'artist': 'Ozuna x Daddy Yankee x J Balvin x Farruko x Anuel AA'}, {'title': 'Te Robare', 'artist': 'Nicky Jam X Ozuna'}], datetime.date(2019, 7, 1): [{'title': 'Old Town Road', 'artist': 'Lil Nas X Featuring Billy Ray Cyrus'}, {'title': 'Senorita', 'artist': 'Shawn Mendes & Camila Cabello'}, {'title': 'Bad Guy', 'artist': 'Billie Eilish'}, {'title': 'Talk', 'artist': 'Khalid'}, {'title': \"I Don't Care\", 'artist': 'Ed Sheeran & Justin Bieber'}, {'title': 'Sucker', 'artist': 'Jonas Brothers'}, {'title': 'Suge', 'artist': 'DaBaby'}, {'title': 'Money In The Grave', 'artist': 'Drake Featuring Rick Ross'}, {'title': 'No Guidance', 'artist': 'Chris Brown Featuring Drake'}, {'title': 'Wow.', 'artist': 'Post Malone'}, {'title': 'Truth Hurts', 'artist': 'Lizzo'}, {'title': 'Sunflower (Spider-Man: Into The Spider-Verse)', 'artist': 'Post Malone & Swae Lee'}, {'title': 'You Need To Calm Down', 'artist': 'Taylor Swift'}, {'title': \"If I Can't Have You\", 'artist': 'Shawn Mendes'}, {'title': 'Dancing With A Stranger', 'artist': 'Sam Smith & Normani'}, {'title': 'Panini', 'artist': 'Lil Nas X'}, {'title': 'Without Me', 'artist': 'Halsey'}, {'title': \"God's Country\", 'artist': 'Blake Shelton'}, {'title': 'Pop Out', 'artist': 'Polo G Featuring Lil Tjay'}, {'title': 'MEGATRON', 'artist': 'Nicki Minaj'}, {'title': 'Sweet But Psycho', 'artist': 'Ava Max'}, {'title': 'Rodeo', 'artist': 'Lil Nas X & Cardi B Or Nas'}, {'title': '7 Rings', 'artist': 'Ariana Grande'}, {'title': 'Hey Look Ma, I Made It', 'artist': 'Panic! At The Disco'}, {'title': 'Happier', 'artist': 'Marshmello & Bastille'}, {'title': 'Rumor', 'artist': 'Lee Brice'}, {'title': 'Never Really Over', 'artist': 'Katy Perry'}, {'title': 'Whiskey Glasses', 'artist': 'Morgan Wallen'}, {'title': 'The Git Up', 'artist': 'Blanco Brown'}, {'title': 'The London', 'artist': 'Young Thug, J. Cole & Travis Scott'}, {'title': 'ME!', 'artist': 'Taylor Swift Featuring Brendon Urie'}, {'title': 'High Hopes', 'artist': 'Panic! At The Disco'}, {'title': 'Beer Never Broke My Heart', 'artist': 'Luke Combs'}, {'title': 'Act Up', 'artist': 'City Girls'}, {'title': 'Eastside', 'artist': 'benny blanco, Halsey & Khalid'}, {'title': 'Middle Child', 'artist': 'J. Cole'}, {'title': 'Con Calma', 'artist': 'Daddy Yankee & Katy Perry Featuring Snow'}, {'title': 'Pure Water', 'artist': 'Mustard & Migos'}, {'title': 'Cross Me', 'artist': 'Ed Sheeran Featuring Chance The Rapper & PnB Rock'}, {'title': 'Going Bad', 'artist': 'Meek Mill Featuring Drake'}, {'title': 'Better', 'artist': 'Khalid'}, {'title': 'Shallow', 'artist': 'Lady Gaga & Bradley Cooper'}, {'title': 'Press', 'artist': 'Cardi B'}, {'title': 'Speechless', 'artist': 'Dan + Shay'}, {'title': 'Sicko Mode', 'artist': 'Travis Scott'}, {'title': 'EARFQUAKE', 'artist': 'Tyler, The Creator'}, {'title': 'Look Back At It', 'artist': 'A Boogie Wit da Hoodie'}, {'title': 'Shotta Flow', 'artist': 'NLE Choppa'}, {'title': \"Break Up With Your Girlfriend, I'm Bored\", 'artist': 'Ariana Grande'}, {'title': 'Nightmare', 'artist': 'Halsey'}, {'title': 'Ran$om', 'artist': 'Lil Tecca'}, {'title': 'Go Loko', 'artist': 'YG, Tyga & Jon Z'}, {'title': 'Someone You Loved', 'artist': 'Lewis Capaldi'}, {'title': 'Look What God Gave Her', 'artist': 'Thomas Rhett'}, {'title': 'Cool', 'artist': 'Jonas Brothers'}, {'title': 'Clout', 'artist': 'Offset Featuring Cardi B'}, {'title': 'One Thing Right', 'artist': 'Marshmello & Kane Brown'}, {'title': 'Good As You', 'artist': 'Kane Brown'}, {'title': 'Worth It', 'artist': 'YK Osiris'}, {'title': 'Just Us', 'artist': 'DJ Khaled Featuring SZA'}, {'title': \"Knockin' Boots\", 'artist': 'Luke Bryan'}, {'title': 'Walk Me Home', 'artist': 'P!nk'}, {'title': 'GIRL', 'artist': 'Maren Morris'}, {'title': 'Easier', 'artist': '5 Seconds Of Summer'}, {'title': 'Please Me', 'artist': 'Cardi B & Bruno Mars'}, {'title': 'Some Of It', 'artist': 'Eric Church'}, {'title': 'All To Myself', 'artist': 'Dan + Shay'}, {'title': 'Callaita', 'artist': 'Bad Bunny & Tainy'}, {'title': '24/7', 'artist': 'Meek Mill Featuring Ella Mai'}, {'title': \"It's You\", 'artist': 'Ali Gatie'}, {'title': 'Rearview Town', 'artist': 'Jason Aldean'}, {'title': 'Out The Mud', 'artist': 'Lil Baby Featuring Future'}, {'title': 'Call You Mine', 'artist': 'The Chainsmokers & Bebe Rexha'}, {'title': 'Girls Need Love', 'artist': 'Summer Walker X Drake'}, {'title': 'Soltera', 'artist': 'Lunay, Daddy Yankee & Bad Bunny'}, {'title': 'Talk You Out Of It', 'artist': 'Florida Georgia Line'}, {'title': 'Trampoline', 'artist': 'SHAED'}, {'title': 'Bacc At It Again', 'artist': 'Yella Beezy, Gucci Mane & Quavo'}, {'title': 'Before I Let Go', 'artist': 'Beyonce'}, {'title': 'Wish Wish', 'artist': 'DJ Khaled Featuring Cardi B & 21 Savage'}, {'title': 'Raised On Country', 'artist': 'Chris Young'}, {'title': 'Wake Up', 'artist': 'Travis Scott'}, {'title': 'Otro Trago', 'artist': 'Sech, Darell, Nicky Jam, Ozuna & Anuel AA'}, {'title': 'Eyes On You', 'artist': 'Chase Rice'}, {'title': 'La La Land', 'artist': 'Bryce Vine Featuring YG'}, {'title': 'Ocean Eyes', 'artist': 'Billie Eilish'}, {'title': 'Here With Me', 'artist': 'Marshmello Featuring CHVRCHES'}, {'title': 'Love Someone', 'artist': 'Brett Eldredge'}, {'title': 'Sanguine Paradise', 'artist': 'Lil Uzi Vert'}, {'title': \"Love Ain't\", 'artist': 'Eli Young Band'}, {'title': 'Calma', 'artist': 'Pedro Capo X Farruko'}, {'title': 'Only Human', 'artist': 'Jonas Brothers'}, {'title': \"The Ones That Didn't Make It Back Home\", 'artist': 'Justin Moore'}, {'title': 'Big Ole Freak', 'artist': 'Megan Thee Stallion'}, {'title': 'Tap', 'artist': 'NAV Featuring Meek Mill'}, {'title': 'You Stay', 'artist': 'DJ Khaled Featuring Meek Mill, J Balvin, Lil Baby & Jeremih'}, {'title': 'Baila Baila Baila', 'artist': 'Ozuna x Daddy Yankee x J Balvin x Farruko x Anuel AA'}, {'title': 'Cash Shit', 'artist': 'Megan Thee Stallion Featuring DaBaby'}, {'title': 'Omerta', 'artist': 'Drake'}, {'title': 'Summer Days', 'artist': 'Martin Garrix Featuring Macklemore & Patrick Stump'}], datetime.date(2019, 8, 1): [{'title': 'Old Town Road', 'artist': 'Lil Nas X Featuring Billy Ray Cyrus'}, {'title': 'Bad Guy', 'artist': 'Billie Eilish'}, {'title': 'Senorita', 'artist': 'Shawn Mendes & Camila Cabello'}, {'title': 'Talk', 'artist': 'Khalid'}, {'title': 'Truth Hurts', 'artist': 'Lizzo'}, {'title': \"I Don't Care\", 'artist': 'Ed Sheeran & Justin Bieber'}, {'title': 'Goodbyes', 'artist': 'Post Malone Featuring Young Thug'}, {'title': 'Sucker', 'artist': 'Jonas Brothers'}, {'title': 'Sunflower (Spider-Man: Into The Spider-Verse)', 'artist': 'Post Malone & Swae Lee'}, {'title': \"If I Can't Have You\", 'artist': 'Shawn Mendes'}, {'title': 'No Guidance', 'artist': 'Chris Brown Featuring Drake'}, {'title': 'Suge', 'artist': 'DaBaby'}, {'title': 'Money In The Grave', 'artist': 'Drake Featuring Rick Ross'}, {'title': 'The Git Up', 'artist': 'Blanco Brown'}, {'title': 'You Need To Calm Down', 'artist': 'Taylor Swift'}, {'title': 'Hey Look Ma, I Made It', 'artist': 'Panic! At The Disco'}, {'title': 'Dancing With A Stranger', 'artist': 'Sam Smith & Normani'}, {'title': 'Wow.', 'artist': 'Post Malone'}, {'title': 'Ran$om', 'artist': 'Lil Tecca'}, {'title': 'Someone You Loved', 'artist': 'Lewis Capaldi'}, {'title': \"God's Country\", 'artist': 'Blake Shelton'}, {'title': 'Without Me', 'artist': 'Halsey'}, {'title': 'The London', 'artist': 'Young Thug, J. Cole & Travis Scott'}, {'title': 'Beer Never Broke My Heart', 'artist': 'Luke Combs'}, {'title': 'Beautiful People', 'artist': 'Ed Sheeran Featuring Khalid'}, {'title': 'Pop Out', 'artist': 'Polo G Featuring Lil Tjay'}, {'title': 'Happier', 'artist': 'Marshmello & Bastille'}, {'title': 'Panini', 'artist': 'Lil Nas X'}, {'title': 'How Do You Sleep?', 'artist': 'Sam Smith'}, {'title': 'Speechless', 'artist': 'Dan + Shay'}, {'title': 'Sweet But Psycho', 'artist': 'Ava Max'}, {'title': 'Never Really Over', 'artist': 'Katy Perry'}, {'title': '7 Rings', 'artist': 'Ariana Grande'}, {'title': 'High Hopes', 'artist': 'Panic! At The Disco'}, {'title': 'Whiskey Glasses', 'artist': 'Morgan Wallen'}, {'title': 'Shotta Flow', 'artist': 'NLE Choppa'}, {'title': 'My Type', 'artist': 'Saweetie'}, {'title': \"Knockin' Boots\", 'artist': 'Luke Bryan'}, {'title': 'Rumor', 'artist': 'Lee Brice'}, {'title': 'Act Up', 'artist': 'City Girls'}, {'title': 'All To Myself', 'artist': 'Dan + Shay'}, {'title': 'Baby', 'artist': 'Lil Baby & DaBaby'}, {'title': 'Better', 'artist': 'Khalid'}, {'title': 'GIRL', 'artist': 'Maren Morris'}, {'title': 'Going Bad', 'artist': 'Meek Mill Featuring Drake'}, {'title': 'Sicko Mode', 'artist': 'Travis Scott'}, {'title': 'Shallow', 'artist': 'Lady Gaga & Bradley Cooper'}, {'title': 'Con Calma', 'artist': 'Daddy Yankee & Katy Perry Featuring Snow'}, {'title': 'Middle Child', 'artist': 'J. Cole'}, {'title': 'Clout', 'artist': 'Offset Featuring Cardi B'}, {'title': 'Cash Shit', 'artist': 'Megan Thee Stallion Featuring DaBaby'}, {'title': 'China', 'artist': 'Anuel AA, Daddy Yankee, Karol G, Ozuna & J Balvin'}, {'title': 'Worth It', 'artist': 'YK Osiris'}, {'title': 'Rearview Town', 'artist': 'Jason Aldean'}, {'title': 'Callaita', 'artist': 'Bad Bunny & Tainy'}, {'title': 'Go Loko', 'artist': 'YG, Tyga & Jon Z'}, {'title': 'Just Us', 'artist': 'DJ Khaled Featuring SZA'}, {'title': 'ME!', 'artist': 'Taylor Swift Featuring Brendon Urie'}, {'title': 'Some Of It', 'artist': 'Eric Church'}, {'title': 'One Thing Right', 'artist': 'Marshmello & Kane Brown'}, {'title': 'Cross Me', 'artist': 'Ed Sheeran Featuring Chance The Rapper & PnB Rock'}, {'title': 'Antisocial', 'artist': 'Ed Sheeran & Travis Scott'}, {'title': 'Press', 'artist': 'Cardi B'}, {'title': 'Easier', 'artist': '5 Seconds Of Summer'}, {'title': 'Talk You Out Of It', 'artist': 'Florida Georgia Line'}, {'title': 'Call You Mine', 'artist': 'The Chainsmokers & Bebe Rexha'}, {'title': 'Trampoline', 'artist': 'SHAED'}, {'title': \"The Ones That Didn't Make It Back Home\", 'artist': 'Justin Moore'}, {'title': 'The Archer', 'artist': 'Taylor Swift'}, {'title': 'EARFQUAKE', 'artist': 'Tyler, The Creator'}, {'title': 'Raised On Country', 'artist': 'Chris Young'}, {'title': \"It's You\", 'artist': 'Ali Gatie'}, {'title': 'Rodeo', 'artist': 'Lil Nas X & Cardi B Or Nas'}, {'title': 'Soltera', 'artist': 'Lunay, Daddy Yankee & Bad Bunny'}, {'title': 'La La Land', 'artist': 'Bryce Vine Featuring YG'}, {'title': 'Brown Skin Girl', 'artist': 'Beyonce, SAINt JHN & Wizkid Featuring Blue Ivy Carter'}, {'title': 'Lalala', 'artist': 'Y2K & bbno$'}, {'title': 'Only Human', 'artist': 'Jonas Brothers'}, {'title': 'Otro Trago', 'artist': 'Sech, Darell, Nicky Jam, Ozuna & Anuel AA'}, {'title': '24/7', 'artist': 'Meek Mill Featuring Ella Mai'}, {'title': 'Nightmare', 'artist': 'Halsey'}, {'title': 'Hate Me', 'artist': 'Ellie Goulding & Juice WRLD'}, {'title': 'No Me Conoce', 'artist': 'Jhay Cortez, J Balvin & Bad Bunny'}, {'title': 'Cool', 'artist': 'Jonas Brothers'}, {'title': 'Before I Let Go', 'artist': 'Beyonce'}, {'title': \"I Don't Know About You\", 'artist': 'Chris Lane'}, {'title': 'Tap', 'artist': 'NAV Featuring Meek Mill'}, {'title': 'Under The Sun', 'artist': 'Dreamville Featuring J. Cole, Lute & DaBaby'}, {'title': 'Southbound', 'artist': 'Carrie Underwood'}, {'title': 'Mood 4 Eva', 'artist': 'Beyonce, JAY-Z & Childish Gambino Featuring Oumou Sangare'}, {'title': 'Wish Wish', 'artist': 'DJ Khaled Featuring Cardi B & 21 Savage'}, {'title': \"Love Ain't\", 'artist': 'Eli Young Band'}, {'title': 'Baguettes In The Face', 'artist': 'Mustard featuring NAV, Playboi Carti & A Boogie Wit da Hoodie'}, {'title': \"Ballin'\", 'artist': 'Mustard & Roddy Ricch'}, {'title': 'Calma', 'artist': 'Pedro Capo X Farruko'}, {'title': 'Que Pretendes', 'artist': 'J Balvin & Bad Bunny'}, {'title': 'Sanguine Paradise', 'artist': 'Lil Uzi Vert'}, {'title': 'Tip Of My Tongue', 'artist': 'Kenny Chesney'}, {'title': 'South Of The Border', 'artist': 'Ed Sheeran Featuring Camila Cabello & Cardi B'}, {'title': 'MEGATRON', 'artist': 'Nicki Minaj'}], datetime.date(2019, 9, 1): [{'title': 'Truth Hurts', 'artist': 'Lizzo'}, {'title': 'Senorita', 'artist': 'Shawn Mendes & Camila Cabello'}, {'title': 'Bad Guy', 'artist': 'Billie Eilish'}, {'title': 'You Need To Calm Down', 'artist': 'Taylor Swift'}, {'title': 'Old Town Road', 'artist': 'Lil Nas X Featuring Billy Ray Cyrus'}, {'title': 'Ran$om', 'artist': 'Lil Tecca'}, {'title': 'No Guidance', 'artist': 'Chris Brown Featuring Drake'}, {'title': 'Talk', 'artist': 'Khalid'}, {'title': \"I Don't Care\", 'artist': 'Ed Sheeran & Justin Bieber'}, {'title': 'Lover', 'artist': 'Taylor Swift'}, {'title': 'ME!', 'artist': 'Taylor Swift Featuring Brendon Urie'}, {'title': 'Goodbyes', 'artist': 'Post Malone Featuring Young Thug'}, {'title': 'Someone You Loved', 'artist': 'Lewis Capaldi'}, {'title': 'Money In The Grave', 'artist': 'Drake Featuring Rick Ross'}, {'title': 'Sucker', 'artist': 'Jonas Brothers'}, {'title': \"If I Can't Have You\", 'artist': 'Shawn Mendes'}, {'title': 'Sunflower (Spider-Man: Into The Spider-Verse)', 'artist': 'Post Malone & Swae Lee'}, {'title': 'Suge', 'artist': 'DaBaby'}, {'title': 'The Git Up', 'artist': 'Blanco Brown'}, {'title': 'Beautiful People', 'artist': 'Ed Sheeran Featuring Khalid'}, {'title': 'My Type', 'artist': 'Saweetie'}, {'title': 'Boyfriend', 'artist': 'Ariana Grande & Social House'}, {'title': 'The Man', 'artist': 'Taylor Swift'}, {'title': 'Baby', 'artist': 'Lil Baby & DaBaby'}, {'title': 'The London', 'artist': 'Young Thug, J. Cole & Travis Scott'}, {'title': 'Dancing With A Stranger', 'artist': 'Sam Smith & Normani'}, {'title': 'Beer Never Broke My Heart', 'artist': 'Luke Combs'}, {'title': 'I Forgot That You Existed', 'artist': 'Taylor Swift'}, {'title': 'Cruel Summer', 'artist': 'Taylor Swift'}, {'title': 'Pop Out', 'artist': 'Polo G Featuring Lil Tjay'}, {'title': 'Hot Girl Summer', 'artist': 'Megan Thee Stallion, Nicki Minaj & Ty Dolla $ign'}, {'title': 'Without Me', 'artist': 'Halsey'}, {'title': 'Speechless', 'artist': 'Dan + Shay'}, {'title': \"Knockin' Boots\", 'artist': 'Luke Bryan'}, {'title': 'Wow.', 'artist': 'Post Malone'}, {'title': 'How Do You Sleep?', 'artist': 'Sam Smith'}, {'title': 'Hey Look Ma, I Made It', 'artist': 'Panic! At The Disco'}, {'title': 'The Archer', 'artist': 'Taylor Swift'}, {'title': 'Hot', 'artist': 'Young Thug Featuring Gunna'}, {'title': 'Panini', 'artist': 'Lil Nas X'}, {'title': 'Trampoline', 'artist': 'SHAED'}, {'title': 'Cash Shit', 'artist': 'Megan Thee Stallion Featuring DaBaby'}, {'title': '7 Rings', 'artist': 'Ariana Grande'}, {'title': 'Only Human', 'artist': 'Jonas Brothers'}, {'title': 'Paper Rings', 'artist': 'Taylor Swift'}, {'title': \"God's Country\", 'artist': 'Blake Shelton'}, {'title': 'Whiskey Glasses', 'artist': 'Morgan Wallen'}, {'title': 'All To Myself', 'artist': 'Dan + Shay'}, {'title': 'Miss Americana & The Heartbreak Prince', 'artist': 'Taylor Swift'}, {'title': 'Shotta Flow', 'artist': 'NLE Choppa'}, {'title': 'I Think He Knows', 'artist': 'Taylor Swift'}, {'title': 'Good As Hell', 'artist': 'Lizzo'}, {'title': \"The Ones That Didn't Make It Back Home\", 'artist': 'Justin Moore'}, {'title': 'Bad Bad Bad', 'artist': 'Young Thug Featuring Lil Baby'}, {'title': 'On Chill', 'artist': 'Wale Featuring Jeremih'}, {'title': 'Rearview Town', 'artist': 'Jason Aldean'}, {'title': 'Cornelia Street', 'artist': 'Taylor Swift'}, {'title': 'China', 'artist': 'Anuel AA, Daddy Yankee, Karol G, Ozuna & J Balvin'}, {'title': 'One Thing Right', 'artist': 'Marshmello & Kane Brown'}, {'title': 'Otro Trago', 'artist': 'Sech, Darell, Nicky Jam, Ozuna & Anuel AA'}, {'title': 'Queen Of Mean', 'artist': 'Sarah Jeffery'}, {'title': 'London Boy', 'artist': 'Taylor Swift'}, {'title': \"Soon You'll Get Better\", 'artist': 'Taylor Swift Featuring Dixie Chicks'}, {'title': 'Slide Away', 'artist': 'Miley Cyrus'}, {'title': 'Easier', 'artist': '5 Seconds Of Summer'}, {'title': 'Motivation', 'artist': 'Normani'}, {'title': 'Death By A Thousand Cuts', 'artist': 'Taylor Swift'}, {'title': \"I Don't Know About You\", 'artist': 'Chris Lane'}, {'title': 'Callaita', 'artist': 'Bad Bunny & Tainy'}, {'title': 'F.N', 'artist': 'Lil Tjay'}, {'title': 'Lalala', 'artist': 'Y2K & bbno$'}, {'title': 'Time', 'artist': 'NF'}, {'title': 'Living', 'artist': 'Dierks Bentley'}, {'title': 'Prayed For You', 'artist': 'Matt Stell'}, {'title': 'Afterglow', 'artist': 'Taylor Swift'}, {'title': 'Southbound', 'artist': 'Carrie Underwood'}, {'title': 'False God', 'artist': 'Taylor Swift'}, {'title': \"It's You\", 'artist': 'Ali Gatie'}, {'title': 'Call You Mine', 'artist': 'The Chainsmokers & Bebe Rexha'}, {'title': 'Hate Me', 'artist': 'Ellie Goulding & Juice WRLD'}, {'title': 'Love You Too Late', 'artist': 'Cole Swindell'}, {'title': 'Juice', 'artist': 'Lizzo'}, {'title': \"Ballin'\", 'artist': 'Mustard & Roddy Ricch'}, {'title': 'Go Loko', 'artist': 'YG, Tyga & Jon Z'}, {'title': 'Press', 'artist': 'Cardi B'}, {'title': 'No Me Conoce', 'artist': 'Jhay Cortez, J Balvin & Bad Bunny'}, {'title': 'Playing Games', 'artist': 'Summer Walker'}, {'title': 'Tip Of My Tongue', 'artist': 'Kenny Chesney'}, {'title': 'Daylight', 'artist': 'Taylor Swift'}, {'title': 'Raised On Country', 'artist': 'Chris Young'}, {'title': 'One Man Band', 'artist': 'Old Dominion'}, {'title': \"It's Nice To Have A Friend\", 'artist': 'Taylor Swift'}, {'title': 'Right Back', 'artist': 'Khalid Featuring A Boogie Wit da Hoodie'}, {'title': 'Never Really Over', 'artist': 'Katy Perry'}, {'title': 'Baguettes In The Face', 'artist': 'Mustard featuring NAV, Playboi Carti & A Boogie Wit da Hoodie'}, {'title': 'EARFQUAKE', 'artist': 'Tyler, The Creator'}, {'title': 'Soltera', 'artist': 'Lunay, Daddy Yankee & Bad Bunny'}, {'title': 'Baby Sitter', 'artist': 'DaBaby Featuring Offset'}, {'title': 'Did It Again', 'artist': 'Lil Tecca'}, {'title': 'Buy My Own Drinks', 'artist': 'Runaway June'}], datetime.date(2019, 10, 1): [{'title': 'Truth Hurts', 'artist': 'Lizzo'}, {'title': 'Senorita', 'artist': 'Shawn Mendes & Camila Cabello'}, {'title': 'Someone You Loved', 'artist': 'Lewis Capaldi'}, {'title': 'Ran$om', 'artist': 'Lil Tecca'}, {'title': 'No Guidance', 'artist': 'Chris Brown Featuring Drake'}, {'title': 'Panini', 'artist': 'Lil Nas X'}, {'title': 'Bad Guy', 'artist': 'Billie Eilish'}, {'title': 'Circles', 'artist': 'Post Malone'}, {'title': 'Goodbyes', 'artist': 'Post Malone Featuring Young Thug'}, {'title': 'Old Town Road', 'artist': 'Lil Nas X Featuring Billy Ray Cyrus'}, {'title': \"I Don't Care\", 'artist': 'Ed Sheeran & Justin Bieber'}, {'title': 'Talk', 'artist': 'Khalid'}, {'title': 'Sunflower (Spider-Man: Into The Spider-Verse)', 'artist': 'Post Malone & Swae Lee'}, {'title': 'Sucker', 'artist': 'Jonas Brothers'}, {'title': 'Beautiful People', 'artist': 'Ed Sheeran Featuring Khalid'}, {'title': 'Money In The Grave', 'artist': 'Drake Featuring Rick Ross'}, {'title': 'INTRO', 'artist': 'DaBaby'}, {'title': 'Suge', 'artist': 'DaBaby'}, {'title': 'Boyfriend', 'artist': 'Ariana Grande & Social House'}, {'title': 'Hot Girl Summer', 'artist': 'Megan Thee Stallion, Nicki Minaj & Ty Dolla $ign'}, {'title': 'Baby', 'artist': 'Lil Baby & DaBaby'}, {'title': 'Memories', 'artist': 'Maroon 5'}, {'title': 'You Need To Calm Down', 'artist': 'Taylor Swift'}, {'title': 'My Type', 'artist': 'Saweetie'}, {'title': 'Take What You Want', 'artist': 'Post Malone Featuring Ozzy Osbourne & Travis Scott'}, {'title': 'How Do You Sleep?', 'artist': 'Sam Smith'}, {'title': 'Dancing With A Stranger', 'artist': 'Sam Smith & Normani'}, {'title': 'Only Human', 'artist': 'Jonas Brothers'}, {'title': 'On Chill', 'artist': 'Wale Featuring Jeremih'}, {'title': 'The Git Up', 'artist': 'Blanco Brown'}, {'title': \"If I Can't Have You\", 'artist': 'Shawn Mendes'}, {'title': 'Trampoline', 'artist': 'SHAED'}, {'title': 'Wow.', 'artist': 'Post Malone'}, {'title': 'Without Me', 'artist': 'Halsey'}, {'title': 'Hot', 'artist': 'Young Thug Featuring Gunna'}, {'title': 'Enemies', 'artist': 'Post Malone Featuring DaBaby'}, {'title': 'Camelot', 'artist': 'NLE Choppa'}, {'title': \"223's\", 'artist': 'YNW Melly & 9lokknine'}, {'title': \"I Don't Know About You\", 'artist': 'Chris Lane'}, {'title': 'The London', 'artist': 'Young Thug, J. Cole & Travis Scott'}, {'title': 'Cash Shit', 'artist': 'Megan Thee Stallion Featuring DaBaby'}, {'title': 'Pop Out', 'artist': 'Polo G Featuring Lil Tjay'}, {'title': 'Good As Hell', 'artist': 'Lizzo'}, {'title': 'Lover', 'artist': 'Taylor Swift'}, {'title': 'Beer Never Broke My Heart', 'artist': 'Luke Combs'}, {'title': 'Speechless', 'artist': 'Dan + Shay'}, {'title': 'One Thing Right', 'artist': 'Marshmello & Kane Brown'}, {'title': 'Saint-Tropez', 'artist': 'Post Malone'}, {'title': 'Time', 'artist': 'NF'}, {'title': \"Knockin' Boots\", 'artist': 'Luke Bryan'}, {'title': 'Living', 'artist': 'Dierks Bentley'}, {'title': \"Don't Call Me Angel (Charlie's Angels)\", 'artist': 'Ariana Grande, Miley Cyrus & Lana Del Rey'}, {'title': \"Hollywood's Bleeding\", 'artist': 'Post Malone'}, {'title': 'Prayed For You', 'artist': 'Matt Stell'}, {'title': 'Liar', 'artist': 'Camila Cabello'}, {'title': \"Ballin'\", 'artist': 'Mustard & Roddy Ricch'}, {'title': 'Heat', 'artist': 'Chris Brown Featuring Gunna'}, {'title': \"Even Though I'm Leaving\", 'artist': 'Luke Combs'}, {'title': 'Die For Me', 'artist': 'Post Malone Featuring Future & Halsey'}, {'title': 'Graveyard', 'artist': 'Halsey'}, {'title': 'Motivation', 'artist': 'Normani'}, {'title': 'China', 'artist': 'Anuel AA, Daddy Yankee, Karol G, Ozuna & J Balvin'}, {'title': 'On The Road', 'artist': 'Post Malone Featuring Meek Mill & Lil Baby'}, {'title': 'One Man Band', 'artist': 'Old Dominion'}, {'title': 'Love You Too Late', 'artist': 'Cole Swindell'}, {'title': 'Southbound', 'artist': 'Carrie Underwood'}, {'title': 'Otro Trago', 'artist': 'Sech, Darell, Nicky Jam, Ozuna & Anuel AA'}, {'title': 'Good Vibes', 'artist': 'Chris Janson'}, {'title': 'Lalala', 'artist': 'Y2K & bbno$'}, {'title': 'Callaita', 'artist': 'Bad Bunny & Tainy'}, {'title': 'Baby Sitter', 'artist': 'DaBaby Featuring Offset'}, {'title': \"The Ones That Didn't Make It Back Home\", 'artist': 'Justin Moore'}, {'title': 'Bad Bad Bad', 'artist': 'Young Thug Featuring Lil Baby'}, {'title': 'Playing Games', 'artist': 'Summer Walker'}, {'title': 'Every Little Thing', 'artist': 'Russell Dickerson'}, {'title': 'Tip Of My Tongue', 'artist': 'Kenny Chesney'}, {'title': 'Right Back', 'artist': 'Khalid Featuring A Boogie Wit da Hoodie'}, {'title': 'No Me Conoce', 'artist': 'Jhay Cortez, J Balvin & Bad Bunny'}, {'title': 'Hot Girl Bummer', 'artist': 'blackbear'}, {'title': 'Self Control', 'artist': 'YoungBoy Never Broke Again'}, {'title': 'What Happens In A Small Town', 'artist': 'Brantley Gilbert + Lindsay Ell'}, {'title': 'F.N', 'artist': 'Lil Tjay'}, {'title': 'Behind Barz', 'artist': 'Drake'}, {'title': 'Did It Again', 'artist': 'Lil Tecca'}, {'title': 'Remember You Young', 'artist': 'Thomas Rhett'}, {'title': 'Adicto', 'artist': 'Tainy, Anuel AA & Ozuna'}, {'title': 'Hate Me', 'artist': 'Ellie Goulding & Juice WRLD'}, {'title': 'A Thousand Bad Times', 'artist': 'Post Malone'}, {'title': 'What If I Never Get Over You', 'artist': 'Lady Antebellum'}, {'title': 'Wish Wish', 'artist': 'DJ Khaled Featuring Cardi B & 21 Savage'}, {'title': 'We Were', 'artist': 'Keith Urban'}, {'title': 'Higher Love', 'artist': 'Kygo X Whitney Houston'}, {'title': 'Stuck In A Dream', 'artist': 'Lil Mosey x Gunna'}, {'title': \"It's You\", 'artist': 'Ali Gatie'}, {'title': 'Slide Away', 'artist': 'Miley Cyrus'}, {'title': 'Loco Contigo', 'artist': 'DJ Snake, J. Balvin & Tyga'}, {'title': 'Shameless', 'artist': 'Camila Cabello'}, {'title': 'Queen Of Mean', 'artist': 'Sarah Jeffery'}, {'title': 'Rearview Town', 'artist': 'Jason Aldean'}, {'title': 'The Bones', 'artist': 'Maren Morris'}], datetime.date(2019, 11, 1): [{'title': 'Someone You Loved', 'artist': 'Lewis Capaldi'}, {'title': 'Truth Hurts', 'artist': 'Lizzo'}, {'title': 'Senorita', 'artist': 'Shawn Mendes & Camila Cabello'}, {'title': 'Circles', 'artist': 'Post Malone'}, {'title': 'No Guidance', 'artist': 'Chris Brown Featuring Drake'}, {'title': 'Panini', 'artist': 'Lil Nas X'}, {'title': 'HIGHEST IN THE ROOM', 'artist': 'Travis Scott'}, {'title': 'Ran$om', 'artist': 'Lil Tecca'}, {'title': 'Bad Guy', 'artist': 'Billie Eilish'}, {'title': '10,000 Hours', 'artist': 'Dan + Shay & Justin Bieber'}, {'title': 'Memories', 'artist': 'Maroon 5'}, {'title': 'Bandit', 'artist': 'Juice WRLD & YoungBoy Never Broke Again'}, {'title': 'Beautiful People', 'artist': 'Ed Sheeran Featuring Khalid'}, {'title': 'Good As Hell', 'artist': 'Lizzo'}, {'title': 'Lose You To Love Me', 'artist': 'Selena Gomez'}, {'title': \"I Don't Care\", 'artist': 'Ed Sheeran & Justin Bieber'}, {'title': 'Goodbyes', 'artist': 'Post Malone Featuring Young Thug'}, {'title': 'Old Town Road', 'artist': 'Lil Nas X Featuring Billy Ray Cyrus'}, {'title': 'Trampoline', 'artist': 'SHAED'}, {'title': 'Only Human', 'artist': 'Jonas Brothers'}, {'title': 'Sunflower (Spider-Man: Into The Spider-Verse)', 'artist': 'Post Malone & Swae Lee'}, {'title': 'Talk', 'artist': 'Khalid'}, {'title': 'Sucker', 'artist': 'Jonas Brothers'}, {'title': 'On Chill', 'artist': 'Wale Featuring Jeremih'}, {'title': 'Money In The Grave', 'artist': 'Drake Featuring Rick Ross'}, {'title': 'Playing Games', 'artist': 'Summer Walker'}, {'title': \"Ballin'\", 'artist': 'Mustard & Roddy Ricch'}, {'title': 'Suge', 'artist': 'DaBaby'}, {'title': 'How Do You Sleep?', 'artist': 'Sam Smith'}, {'title': 'Baby', 'artist': 'Lil Baby & DaBaby'}, {'title': 'Hot', 'artist': 'Young Thug Featuring Gunna'}, {'title': 'One Man Band', 'artist': 'Old Dominion'}, {'title': 'Dancing With A Stranger', 'artist': 'Sam Smith & Normani'}, {'title': \"Even Though I'm Leaving\", 'artist': 'Luke Combs'}, {'title': 'Hot Girl Summer', 'artist': 'Megan Thee Stallion, Nicki Minaj & Ty Dolla $ign'}, {'title': 'One Thing Right', 'artist': 'Marshmello & Kane Brown'}, {'title': 'You Need To Calm Down', 'artist': 'Taylor Swift'}, {'title': 'Lover', 'artist': 'Taylor Swift'}, {'title': 'Camelot', 'artist': 'NLE Choppa'}, {'title': 'My Type', 'artist': 'Saweetie'}, {'title': 'Prayed For You', 'artist': 'Matt Stell'}, {'title': 'Time', 'artist': 'NF'}, {'title': 'Heat', 'artist': 'Chris Brown Featuring Gunna'}, {'title': 'Graveyard', 'artist': 'Halsey'}, {'title': \"223's\", 'artist': 'YNW Melly & 9lokknine'}, {'title': 'Wow.', 'artist': 'Post Malone'}, {'title': 'Lonely Child', 'artist': 'YoungBoy Never Broke Again'}, {'title': 'Good Vibes', 'artist': 'Chris Janson'}, {'title': 'Love You Too Late', 'artist': 'Cole Swindell'}, {'title': 'Take What You Want', 'artist': 'Post Malone Featuring Ozzy Osbourne & Travis Scott'}, {'title': 'Dance Monkey', 'artist': 'Tones And I'}, {'title': 'Liar', 'artist': 'Camila Cabello'}, {'title': 'The Git Up', 'artist': 'Blanco Brown'}, {'title': \"I Don't Know About You\", 'artist': 'Chris Lane'}, {'title': 'BOP', 'artist': 'DaBaby'}, {'title': 'Hot Girl Bummer', 'artist': 'blackbear'}, {'title': 'VIBEZ', 'artist': 'DaBaby'}, {'title': 'Make No Sense', 'artist': 'YoungBoy Never Broke Again'}, {'title': 'Baby Sitter', 'artist': 'DaBaby Featuring Offset'}, {'title': 'Cash Shit', 'artist': 'Megan Thee Stallion Featuring DaBaby'}, {'title': 'Every Little Thing', 'artist': 'Russell Dickerson'}, {'title': 'Self Control', 'artist': 'YoungBoy Never Broke Again'}, {'title': 'F.N', 'artist': 'Lil Tjay'}, {'title': 'The Bones', 'artist': 'Maren Morris'}, {'title': 'Enemies', 'artist': 'Post Malone Featuring DaBaby'}, {'title': 'Lights Up', 'artist': 'Harry Styles'}, {'title': 'INTRO', 'artist': 'DaBaby'}, {'title': 'What Happens In A Small Town', 'artist': 'Brantley Gilbert + Lindsay Ell'}, {'title': 'Hate Me', 'artist': 'Ellie Goulding & Juice WRLD'}, {'title': 'All Dat', 'artist': 'Moneybagg Yo X Megan Thee Stallion'}, {'title': 'China', 'artist': 'Anuel AA, Daddy Yankee, Karol G, Ozuna & J Balvin'}, {'title': 'Come Thru', 'artist': 'Summer Walker & Usher'}, {'title': 'Living', 'artist': 'Dierks Bentley'}, {'title': 'Tip Of My Tongue', 'artist': 'Kenny Chesney'}, {'title': 'Motivation', 'artist': 'Normani'}, {'title': 'Make It Right', 'artist': 'BTS Featuring Lauv'}, {'title': 'Leave Em Alone', 'artist': 'Layton Greene, Lil Baby, City Girls & PnB Rock'}, {'title': 'Hot Now', 'artist': 'YoungBoy Never Broke Again'}, {'title': 'Rich As Hell', 'artist': 'YoungBoy Never Broke Again'}, {'title': 'Remember You Young', 'artist': 'Thomas Rhett'}, {'title': 'We Were', 'artist': 'Keith Urban'}, {'title': 'Otro Trago', 'artist': 'Sech, Darell, Nicky Jam, Ozuna & Anuel AA'}, {'title': 'Kinfolks', 'artist': 'Sam Hunt'}, {'title': 'Lalala', 'artist': 'Y2K & bbno$'}, {'title': 'Higher Love', 'artist': 'Kygo X Whitney Houston'}, {'title': 'In Control', 'artist': 'YoungBoy Never Broke Again'}, {'title': 'Heartache Medication', 'artist': 'Jon Pardi'}, {'title': 'Hot Shower', 'artist': 'Chance The Rapper Featuring MadeinTYO & DaBaby'}, {'title': 'Callaita', 'artist': 'Bad Bunny & Tainy'}, {'title': 'Nice To Meet Ya', 'artist': 'Niall Horan'}, {'title': \"Don't Call Me Angel (Charlie's Angels)\", 'artist': 'Ariana Grande, Miley Cyrus & Lana Del Rey'}, {'title': 'Carter Son', 'artist': 'YoungBoy Never Broke Again'}, {'title': 'La Cancion', 'artist': 'J Balvin & Bad Bunny'}, {'title': 'What If I Never Get Over You', 'artist': 'Lady Antebellum'}, {'title': \"I'll Kill You\", 'artist': 'Summer Walker Featuring Jhene Aiko'}, {'title': 'TOES', 'artist': 'DaBaby Featuring Lil Baby & Moneybagg Yo'}, {'title': 'Somebody', 'artist': 'Internet Money, Lil Tecca & A Boogie Wit da Hoodie'}, {'title': 'DHL', 'artist': 'Frank Ocean'}, {'title': 'Boyfriend', 'artist': 'Ariana Grande & Social House'}, {'title': 'Wish Wish', 'artist': 'DJ Khaled Featuring Cardi B & 21 Savage'}], datetime.date(2019, 12, 1): [{'title': 'Circles', 'artist': 'Post Malone'}, {'title': 'Someone You Loved', 'artist': 'Lewis Capaldi'}, {'title': 'Good As Hell', 'artist': 'Lizzo'}, {'title': 'Memories', 'artist': 'Maroon 5'}, {'title': 'Roxanne', 'artist': 'Arizona Zervas'}, {'title': 'Lose You To Love Me', 'artist': 'Selena Gomez'}, {'title': 'Senorita', 'artist': 'Shawn Mendes & Camila Cabello'}, {'title': '10,000 Hours', 'artist': 'Dan + Shay & Justin Bieber'}, {'title': 'Truth Hurts', 'artist': 'Lizzo'}, {'title': 'No Guidance', 'artist': 'Chris Brown Featuring Drake'}, {'title': 'Dance Monkey', 'artist': 'Tones And I'}, {'title': 'BOP', 'artist': 'DaBaby'}, {'title': 'Panini', 'artist': 'Lil Nas X'}, {'title': 'Bad Guy', 'artist': 'Billie Eilish'}, {'title': 'HIGHEST IN THE ROOM', 'artist': 'Travis Scott'}, {'title': \"Ballin'\", 'artist': 'Mustard & Roddy Ricch'}, {'title': 'Trampoline', 'artist': 'SHAED'}, {'title': 'All I Want For Christmas Is You', 'artist': 'Mariah Carey'}, {'title': 'Lover', 'artist': 'Taylor Swift'}, {'title': 'Old Town Road', 'artist': 'Lil Nas X Featuring Billy Ray Cyrus'}, {'title': 'Hot', 'artist': 'Young Thug Featuring Gunna'}, {'title': 'One Man Band', 'artist': 'Old Dominion'}, {'title': 'Woah', 'artist': 'Lil Baby'}, {'title': 'Only Human', 'artist': 'Jonas Brothers'}, {'title': 'Ran$om', 'artist': 'Lil Tecca'}, {'title': 'Everything I Wanted', 'artist': 'Billie Eilish'}, {'title': 'Beautiful People', 'artist': 'Ed Sheeran Featuring Khalid'}, {'title': \"Even Though I'm Leaving\", 'artist': 'Luke Combs'}, {'title': \"Rockin' Around The Christmas Tree\", 'artist': 'Brenda Lee'}, {'title': 'Bandit', 'artist': 'Juice WRLD & YoungBoy Never Broke Again'}, {'title': 'On Chill', 'artist': 'Wale Featuring Jeremih'}, {'title': 'Heartless', 'artist': 'The Weeknd'}, {'title': 'Vete', 'artist': 'Bad Bunny'}, {'title': 'Graveyard', 'artist': 'Halsey'}, {'title': \"I Don't Care\", 'artist': 'Ed Sheeran & Justin Bieber'}, {'title': 'Talk', 'artist': 'Khalid'}, {'title': \"Don't Start Now\", 'artist': 'Dua Lipa'}, {'title': 'Heat', 'artist': 'Chris Brown Featuring Gunna'}, {'title': 'Baby', 'artist': 'Lil Baby & DaBaby'}, {'title': 'How Do You Sleep?', 'artist': 'Sam Smith'}, {'title': 'Goodbyes', 'artist': 'Post Malone Featuring Young Thug'}, {'title': 'Falling', 'artist': 'Trevor Daniel'}, {'title': 'Playing Games', 'artist': 'Summer Walker'}, {'title': 'Suge', 'artist': 'DaBaby'}, {'title': 'Hot Girl Bummer', 'artist': 'blackbear'}, {'title': 'Last Christmas', 'artist': 'Wham!'}, {'title': 'Jingle Bell Rock', 'artist': 'Bobby Helms'}, {'title': 'A Holly Jolly Christmas', 'artist': 'Burl Ives'}, {'title': \"It's The Most Wonderful Time Of The Year\", 'artist': 'Andy Williams'}, {'title': 'Take What You Want', 'artist': 'Post Malone Featuring Ozzy Osbourne & Travis Scott'}, {'title': 'Juicy', 'artist': 'Doja Cat & Tyga'}, {'title': 'One Thing Right', 'artist': 'Marshmello & Kane Brown'}, {'title': 'The Bones', 'artist': 'Maren Morris'}, {'title': 'Time', 'artist': 'NF'}, {'title': 'Into The Unknown', 'artist': 'Idina Menzel & AURORA'}, {'title': 'Heart On Ice', 'artist': 'Rod Wave'}, {'title': \"223's\", 'artist': 'YNW Melly & 9lokknine'}, {'title': 'Who Needs Love', 'artist': 'Trippie Redd'}, {'title': 'Death', 'artist': 'Trippie Redd Featuring DaBaby'}, {'title': '6 Kiss', 'artist': 'Trippie Redd Featuring Juice WRLD & YNW Melly'}, {'title': 'What If I Never Get Over You', 'artist': 'Lady Antebellum'}, {'title': 'Remember You Young', 'artist': 'Thomas Rhett'}, {'title': 'Loyal', 'artist': 'PARTYNEXTDOOR Featuring Drake'}, {'title': 'Suicidal', 'artist': 'YNW Melly & Juice WRLD'}, {'title': 'Camelot', 'artist': 'NLE Choppa'}, {'title': 'VIBEZ', 'artist': 'DaBaby'}, {'title': 'Leave Em Alone', 'artist': 'Layton Greene, Lil Baby, City Girls & PnB Rock'}, {'title': 'We Were', 'artist': 'Keith Urban'}, {'title': 'Prayed For You', 'artist': 'Matt Stell'}, {'title': 'Kinfolks', 'artist': 'Sam Hunt'}, {'title': 'Enemies', 'artist': 'Post Malone Featuring DaBaby'}, {'title': \"Ridin' Roads\", 'artist': 'Dustin Lynch'}, {'title': 'Hate Me', 'artist': 'Ellie Goulding & Juice WRLD'}, {'title': 'Heartache Medication', 'artist': 'Jon Pardi'}, {'title': 'Baby Sitter', 'artist': 'DaBaby Featuring Offset'}, {'title': 'All The Good Girls Go To Hell', 'artist': 'Billie Eilish'}, {'title': 'Watermelon Sugar', 'artist': 'Harry Styles'}, {'title': 'We Back', 'artist': 'Jason Aldean'}, {'title': 'Follow God', 'artist': 'Kanye West'}, {'title': 'Jerry Sprunger', 'artist': 'Tory Lanez & T-Pain'}, {'title': 'Love Me More', 'artist': 'Trippie Redd'}, {'title': 'Nice To Meet Ya', 'artist': 'Niall Horan'}, {'title': 'Lalala', 'artist': 'Y2K & bbno$'}, {'title': 'Hate Me', 'artist': 'Trippie Redd Featuring YoungBoy Never Broke Again'}, {'title': 'Reply', 'artist': 'A Boogie Wit da Hoodie Featuring Lil Uzi Vert'}, {'title': 'Tip Of My Tongue', 'artist': 'Kenny Chesney'}, {'title': 'Candy', 'artist': 'Doja Cat'}, {'title': 'Slow Dancing In The Dark', 'artist': 'Joji'}, {'title': 'None Of Your Concern', 'artist': 'Jhene Aiko Featuring Big Sean'}, {'title': 'Yellow Hearts', 'artist': 'Ant Saunders'}, {'title': 'Make No Sense', 'artist': 'YoungBoy Never Broke Again'}, {'title': 'Good Vibes', 'artist': 'Chris Janson'}, {'title': 'La Cancion', 'artist': 'J Balvin & Bad Bunny'}, {'title': 'Easy', 'artist': 'DaniLeigh Featuring Chris Brown'}, {'title': 'Cuban Links', 'artist': 'Rod Wave & Kevin Gates'}, {'title': 'Hot Girl Summer', 'artist': 'Megan Thee Stallion, Nicki Minaj & Ty Dolla $ign'}, {'title': 'Lonely Child', 'artist': 'YoungBoy Never Broke Again'}, {'title': 'Into The Unknown', 'artist': 'Panic! At The Disco'}, {'title': 'Show Yourself', 'artist': 'Idina Menzel & Evan Rachel Wood'}, {'title': 'Homesick', 'artist': 'Kane Brown'}]}\n"
     ]
    }
   ],
   "source": []
  },
  {
   "cell_type": "code",
   "execution_count": null,
   "metadata": {},
   "outputs": [],
   "source": [
    "\n",
    "\n"
   ]
  },
  {
   "cell_type": "code",
   "execution_count": 44,
   "metadata": {
    "tags": []
   },
   "outputs": [
    {
     "output_type": "stream",
     "name": "stderr",
     "text": [
      "100%|██████████| 60/60 [00:36<00:00,  1.64it/s]\n",
      "100%|██████████| 60/60 [00:35<00:00,  1.67it/s]\n",
      "100%|██████████| 60/60 [00:35<00:00,  1.70it/s]\n"
     ]
    }
   ],
   "source": [
    "import final_data_plotter\n",
    "# average_acousticness = final_data_plotter.average_by_date(1961, 2020, \"acousticness\")\n",
    "average_features_df = final_data_plotter.average_all(1961, 2020, [\"acousticness\", \"danceability\", \"instrumentalness\"])"
   ]
  },
  {
   "cell_type": "code",
   "execution_count": 46,
   "metadata": {},
   "outputs": [
    {
     "output_type": "display_data",
     "data": {
      "application/vnd.plotly.v1+json": {
       "config": {
        "plotlyServerURL": "https://plot.ly"
       },
       "data": [
        {
         "hovertemplate": "Feature=acousticness<br>Date=%{x}<br>Average=%{y}<extra></extra>",
         "legendgroup": "acousticness",
         "line": {
          "color": "#636efa",
          "dash": "solid"
         },
         "mode": "lines",
         "name": "acousticness",
         "orientation": "v",
         "showlegend": true,
         "type": "scatter",
         "x": [
          "1961-06-01",
          "1962-06-01",
          "1963-06-01",
          "1964-06-01",
          "1965-06-01",
          "1966-06-01",
          "1967-06-01",
          "1968-06-01",
          "1969-06-01",
          "1970-06-01",
          "1971-06-01",
          "1972-06-01",
          "1973-06-01",
          "1974-06-01",
          "1975-06-01",
          "1976-06-01",
          "1977-06-01",
          "1978-06-01",
          "1979-06-01",
          "1980-06-01",
          "1981-06-01",
          "1982-06-01",
          "1983-06-01",
          "1984-06-01",
          "1985-06-01",
          "1986-06-01",
          "1987-06-01",
          "1988-06-01",
          "1989-06-01",
          "1990-06-01",
          "1991-06-01",
          "1992-06-01",
          "1993-06-01",
          "1994-06-01",
          "1995-06-01",
          "1996-06-01",
          "1997-06-01",
          "1998-06-01",
          "1999-06-01",
          "2000-06-01",
          "2001-06-01",
          "2002-06-01",
          "2003-06-01",
          "2004-06-01",
          "2005-06-01",
          "2006-06-01",
          "2007-06-01",
          "2008-06-01",
          "2009-06-01",
          "2010-06-01",
          "2011-06-01",
          "2012-06-01",
          "2013-06-01",
          "2014-06-01",
          "2015-06-01",
          "2016-06-01",
          "2017-06-01",
          "2018-06-01",
          "2019-06-01",
          "2020-06-01"
         ],
         "xaxis": "x",
         "y": [
          0.6578850574712642,
          0.6474415764705883,
          0.6484250000000001,
          0.5042582469135805,
          0.5148697674418604,
          0.4408821250000001,
          0.4055404615384615,
          0.44838704545454566,
          0.3613605106382978,
          0.323536827160494,
          0.42586907894736825,
          0.40542113636363636,
          0.3670378829787236,
          0.3232225263157896,
          0.32585705930232556,
          0.2692307857142857,
          0.3021819157894737,
          0.29099541827956993,
          0.1931052340425531,
          0.26615270329670326,
          0.31046311827956985,
          0.2444994301075268,
          0.1942346631578947,
          0.1673304752688172,
          0.19644254166666672,
          0.18560643010752695,
          0.16596724444444447,
          0.16684926315789478,
          0.14997675000000008,
          0.1365575195402299,
          0.1433944344444444,
          0.16285973913043478,
          0.1464734941176471,
          0.18484010123456784,
          0.17418324096385543,
          0.2165498381578948,
          0.19705661374999994,
          0.21981382222222215,
          0.15532350833333333,
          0.14807281958762888,
          0.14149969072164953,
          0.1598132102020202,
          0.17422678124999993,
          0.17602325600000002,
          0.14757690909090904,
          0.1459732083333333,
          0.13451275108695654,
          0.1363809712643678,
          0.14356522291666657,
          0.15956067708333332,
          0.1486190137234042,
          0.10734931250000006,
          0.16860933333333336,
          0.14650936082474228,
          0.17522777551020402,
          0.18847220999999995,
          0.17682531958762895,
          0.15816030303030312,
          0.22356119999999993,
          0.19492710000000005
         ],
         "yaxis": "y"
        },
        {
         "hovertemplate": "Feature=danceability<br>Date=%{x}<br>Average=%{y}<extra></extra>",
         "legendgroup": "danceability",
         "line": {
          "color": "#EF553B",
          "dash": "solid"
         },
         "mode": "lines",
         "name": "danceability",
         "orientation": "v",
         "showlegend": true,
         "type": "scatter",
         "x": [
          "1961-06-01",
          "1962-06-01",
          "1963-06-01",
          "1964-06-01",
          "1965-06-01",
          "1966-06-01",
          "1967-06-01",
          "1968-06-01",
          "1969-06-01",
          "1970-06-01",
          "1971-06-01",
          "1972-06-01",
          "1973-06-01",
          "1974-06-01",
          "1975-06-01",
          "1976-06-01",
          "1977-06-01",
          "1978-06-01",
          "1979-06-01",
          "1980-06-01",
          "1981-06-01",
          "1982-06-01",
          "1983-06-01",
          "1984-06-01",
          "1985-06-01",
          "1986-06-01",
          "1987-06-01",
          "1988-06-01",
          "1989-06-01",
          "1990-06-01",
          "1991-06-01",
          "1992-06-01",
          "1993-06-01",
          "1994-06-01",
          "1995-06-01",
          "1996-06-01",
          "1997-06-01",
          "1998-06-01",
          "1999-06-01",
          "2000-06-01",
          "2001-06-01",
          "2002-06-01",
          "2003-06-01",
          "2004-06-01",
          "2005-06-01",
          "2006-06-01",
          "2007-06-01",
          "2008-06-01",
          "2009-06-01",
          "2010-06-01",
          "2011-06-01",
          "2012-06-01",
          "2013-06-01",
          "2014-06-01",
          "2015-06-01",
          "2016-06-01",
          "2017-06-01",
          "2018-06-01",
          "2019-06-01",
          "2020-06-01"
         ],
         "xaxis": "x",
         "y": [
          0.5474252873563216,
          0.5461176470588236,
          0.538345238095238,
          0.5670987654320987,
          0.5271279069767439,
          0.561054347826087,
          0.5439010989010992,
          0.5682727272727272,
          0.5294361702127659,
          0.5502962962962964,
          0.5732631578947368,
          0.5408409090909092,
          0.5551063829787233,
          0.5989052631578947,
          0.5712558139534883,
          0.6078452380952379,
          0.5951052631578946,
          0.600268817204301,
          0.6807127659574466,
          0.6201648351648351,
          0.6254301075268817,
          0.6291290322580646,
          0.6300526315789475,
          0.6571505376344088,
          0.6539791666666664,
          0.6316451612903226,
          0.641511111111111,
          0.6285157894736841,
          0.6322840909090911,
          0.6363563218390804,
          0.638977777777778,
          0.6564021739130435,
          0.6596470588235293,
          0.6478888888888887,
          0.6422289156626507,
          0.642013157894737,
          0.6718125000000001,
          0.6649,
          0.6476354166666666,
          0.6699999999999997,
          0.658443298969072,
          0.6295656565656564,
          0.6197083333333333,
          0.6330899999999998,
          0.645979797979798,
          0.6289479166666667,
          0.6294239130434784,
          0.6151954022988505,
          0.6098958333333334,
          0.6108541666666666,
          0.6068404255319151,
          0.63171875,
          0.6209595959595962,
          0.6213505154639177,
          0.6427959183673468,
          0.6437400000000001,
          0.6809896907216493,
          0.7039898989898992,
          0.6711399999999998,
          0.7267000000000001
         ],
         "yaxis": "y"
        },
        {
         "hovertemplate": "Feature=instrumentalness<br>Date=%{x}<br>Average=%{y}<extra></extra>",
         "legendgroup": "instrumentalness",
         "line": {
          "color": "#00cc96",
          "dash": "solid"
         },
         "mode": "lines",
         "name": "instrumentalness",
         "orientation": "v",
         "showlegend": true,
         "type": "scatter",
         "x": [
          "1961-06-01",
          "1962-06-01",
          "1963-06-01",
          "1964-06-01",
          "1965-06-01",
          "1966-06-01",
          "1967-06-01",
          "1968-06-01",
          "1969-06-01",
          "1970-06-01",
          "1971-06-01",
          "1972-06-01",
          "1973-06-01",
          "1974-06-01",
          "1975-06-01",
          "1976-06-01",
          "1977-06-01",
          "1978-06-01",
          "1979-06-01",
          "1980-06-01",
          "1981-06-01",
          "1982-06-01",
          "1983-06-01",
          "1984-06-01",
          "1985-06-01",
          "1986-06-01",
          "1987-06-01",
          "1988-06-01",
          "1989-06-01",
          "1990-06-01",
          "1991-06-01",
          "1992-06-01",
          "1993-06-01",
          "1994-06-01",
          "1995-06-01",
          "1996-06-01",
          "1997-06-01",
          "1998-06-01",
          "1999-06-01",
          "2000-06-01",
          "2001-06-01",
          "2002-06-01",
          "2003-06-01",
          "2004-06-01",
          "2005-06-01",
          "2006-06-01",
          "2007-06-01",
          "2008-06-01",
          "2009-06-01",
          "2010-06-01",
          "2011-06-01",
          "2012-06-01",
          "2013-06-01",
          "2014-06-01",
          "2015-06-01",
          "2016-06-01",
          "2017-06-01",
          "2018-06-01",
          "2019-06-01",
          "2020-06-01"
         ],
         "xaxis": "x",
         "y": [
          0.041305255287356325,
          0.09126718729411767,
          0.059592004404761874,
          0.07008090518518517,
          0.03913310546511629,
          0.015140112391304342,
          0.042116691538461544,
          0.06146206670454548,
          0.09601181819148936,
          0.05756247074074073,
          0.04374896184210526,
          0.031243986590909087,
          0.06836128276595743,
          0.06256203494736842,
          0.08209496430232557,
          0.06538329285714284,
          0.03843545663157894,
          0.032842507741935485,
          0.03738277606382978,
          0.0423551410989011,
          0.007053112150537635,
          0.01875649440860215,
          0.04239811610526315,
          0.02462757075268817,
          0.05047303583333337,
          0.044005042258064515,
          0.0377600311111111,
          0.05423180926315789,
          0.024125737159090912,
          0.048116915402298864,
          0.07408133822222218,
          0.039265417934782616,
          0.05011389423529411,
          0.04255976679012344,
          0.0331621034939759,
          0.04507883723684211,
          0.055037584375000004,
          0.032519082888888884,
          0.012638874479166673,
          0.015646122474226806,
          0.01243665072164948,
          0.03543821919191919,
          0.023558396458333335,
          0.0146058647,
          0.010734588383838383,
          0.003466341562500001,
          0.00369178195652174,
          0.026915513218390797,
          0.001897750625,
          0.0003749010416666668,
          0.021374114148936172,
          0.012359293125000002,
          0.014671425858585859,
          0.017719389072164953,
          0.017598854081632653,
          0.004263394199999999,
          0.009054966701030927,
          0.00028705707070707075,
          0.0181837559,
          0.010154210200000005
         ],
         "yaxis": "y"
        }
       ],
       "layout": {
        "legend": {
         "title": {
          "text": "Feature"
         },
         "tracegroupgap": 0
        },
        "margin": {
         "t": 60
        },
        "template": {
         "data": {
          "bar": [
           {
            "error_x": {
             "color": "#2a3f5f"
            },
            "error_y": {
             "color": "#2a3f5f"
            },
            "marker": {
             "line": {
              "color": "#E5ECF6",
              "width": 0.5
             }
            },
            "type": "bar"
           }
          ],
          "barpolar": [
           {
            "marker": {
             "line": {
              "color": "#E5ECF6",
              "width": 0.5
             }
            },
            "type": "barpolar"
           }
          ],
          "carpet": [
           {
            "aaxis": {
             "endlinecolor": "#2a3f5f",
             "gridcolor": "white",
             "linecolor": "white",
             "minorgridcolor": "white",
             "startlinecolor": "#2a3f5f"
            },
            "baxis": {
             "endlinecolor": "#2a3f5f",
             "gridcolor": "white",
             "linecolor": "white",
             "minorgridcolor": "white",
             "startlinecolor": "#2a3f5f"
            },
            "type": "carpet"
           }
          ],
          "choropleth": [
           {
            "colorbar": {
             "outlinewidth": 0,
             "ticks": ""
            },
            "type": "choropleth"
           }
          ],
          "contour": [
           {
            "colorbar": {
             "outlinewidth": 0,
             "ticks": ""
            },
            "colorscale": [
             [
              0,
              "#0d0887"
             ],
             [
              0.1111111111111111,
              "#46039f"
             ],
             [
              0.2222222222222222,
              "#7201a8"
             ],
             [
              0.3333333333333333,
              "#9c179e"
             ],
             [
              0.4444444444444444,
              "#bd3786"
             ],
             [
              0.5555555555555556,
              "#d8576b"
             ],
             [
              0.6666666666666666,
              "#ed7953"
             ],
             [
              0.7777777777777778,
              "#fb9f3a"
             ],
             [
              0.8888888888888888,
              "#fdca26"
             ],
             [
              1,
              "#f0f921"
             ]
            ],
            "type": "contour"
           }
          ],
          "contourcarpet": [
           {
            "colorbar": {
             "outlinewidth": 0,
             "ticks": ""
            },
            "type": "contourcarpet"
           }
          ],
          "heatmap": [
           {
            "colorbar": {
             "outlinewidth": 0,
             "ticks": ""
            },
            "colorscale": [
             [
              0,
              "#0d0887"
             ],
             [
              0.1111111111111111,
              "#46039f"
             ],
             [
              0.2222222222222222,
              "#7201a8"
             ],
             [
              0.3333333333333333,
              "#9c179e"
             ],
             [
              0.4444444444444444,
              "#bd3786"
             ],
             [
              0.5555555555555556,
              "#d8576b"
             ],
             [
              0.6666666666666666,
              "#ed7953"
             ],
             [
              0.7777777777777778,
              "#fb9f3a"
             ],
             [
              0.8888888888888888,
              "#fdca26"
             ],
             [
              1,
              "#f0f921"
             ]
            ],
            "type": "heatmap"
           }
          ],
          "heatmapgl": [
           {
            "colorbar": {
             "outlinewidth": 0,
             "ticks": ""
            },
            "colorscale": [
             [
              0,
              "#0d0887"
             ],
             [
              0.1111111111111111,
              "#46039f"
             ],
             [
              0.2222222222222222,
              "#7201a8"
             ],
             [
              0.3333333333333333,
              "#9c179e"
             ],
             [
              0.4444444444444444,
              "#bd3786"
             ],
             [
              0.5555555555555556,
              "#d8576b"
             ],
             [
              0.6666666666666666,
              "#ed7953"
             ],
             [
              0.7777777777777778,
              "#fb9f3a"
             ],
             [
              0.8888888888888888,
              "#fdca26"
             ],
             [
              1,
              "#f0f921"
             ]
            ],
            "type": "heatmapgl"
           }
          ],
          "histogram": [
           {
            "marker": {
             "colorbar": {
              "outlinewidth": 0,
              "ticks": ""
             }
            },
            "type": "histogram"
           }
          ],
          "histogram2d": [
           {
            "colorbar": {
             "outlinewidth": 0,
             "ticks": ""
            },
            "colorscale": [
             [
              0,
              "#0d0887"
             ],
             [
              0.1111111111111111,
              "#46039f"
             ],
             [
              0.2222222222222222,
              "#7201a8"
             ],
             [
              0.3333333333333333,
              "#9c179e"
             ],
             [
              0.4444444444444444,
              "#bd3786"
             ],
             [
              0.5555555555555556,
              "#d8576b"
             ],
             [
              0.6666666666666666,
              "#ed7953"
             ],
             [
              0.7777777777777778,
              "#fb9f3a"
             ],
             [
              0.8888888888888888,
              "#fdca26"
             ],
             [
              1,
              "#f0f921"
             ]
            ],
            "type": "histogram2d"
           }
          ],
          "histogram2dcontour": [
           {
            "colorbar": {
             "outlinewidth": 0,
             "ticks": ""
            },
            "colorscale": [
             [
              0,
              "#0d0887"
             ],
             [
              0.1111111111111111,
              "#46039f"
             ],
             [
              0.2222222222222222,
              "#7201a8"
             ],
             [
              0.3333333333333333,
              "#9c179e"
             ],
             [
              0.4444444444444444,
              "#bd3786"
             ],
             [
              0.5555555555555556,
              "#d8576b"
             ],
             [
              0.6666666666666666,
              "#ed7953"
             ],
             [
              0.7777777777777778,
              "#fb9f3a"
             ],
             [
              0.8888888888888888,
              "#fdca26"
             ],
             [
              1,
              "#f0f921"
             ]
            ],
            "type": "histogram2dcontour"
           }
          ],
          "mesh3d": [
           {
            "colorbar": {
             "outlinewidth": 0,
             "ticks": ""
            },
            "type": "mesh3d"
           }
          ],
          "parcoords": [
           {
            "line": {
             "colorbar": {
              "outlinewidth": 0,
              "ticks": ""
             }
            },
            "type": "parcoords"
           }
          ],
          "pie": [
           {
            "automargin": true,
            "type": "pie"
           }
          ],
          "scatter": [
           {
            "marker": {
             "colorbar": {
              "outlinewidth": 0,
              "ticks": ""
             }
            },
            "type": "scatter"
           }
          ],
          "scatter3d": [
           {
            "line": {
             "colorbar": {
              "outlinewidth": 0,
              "ticks": ""
             }
            },
            "marker": {
             "colorbar": {
              "outlinewidth": 0,
              "ticks": ""
             }
            },
            "type": "scatter3d"
           }
          ],
          "scattercarpet": [
           {
            "marker": {
             "colorbar": {
              "outlinewidth": 0,
              "ticks": ""
             }
            },
            "type": "scattercarpet"
           }
          ],
          "scattergeo": [
           {
            "marker": {
             "colorbar": {
              "outlinewidth": 0,
              "ticks": ""
             }
            },
            "type": "scattergeo"
           }
          ],
          "scattergl": [
           {
            "marker": {
             "colorbar": {
              "outlinewidth": 0,
              "ticks": ""
             }
            },
            "type": "scattergl"
           }
          ],
          "scattermapbox": [
           {
            "marker": {
             "colorbar": {
              "outlinewidth": 0,
              "ticks": ""
             }
            },
            "type": "scattermapbox"
           }
          ],
          "scatterpolar": [
           {
            "marker": {
             "colorbar": {
              "outlinewidth": 0,
              "ticks": ""
             }
            },
            "type": "scatterpolar"
           }
          ],
          "scatterpolargl": [
           {
            "marker": {
             "colorbar": {
              "outlinewidth": 0,
              "ticks": ""
             }
            },
            "type": "scatterpolargl"
           }
          ],
          "scatterternary": [
           {
            "marker": {
             "colorbar": {
              "outlinewidth": 0,
              "ticks": ""
             }
            },
            "type": "scatterternary"
           }
          ],
          "surface": [
           {
            "colorbar": {
             "outlinewidth": 0,
             "ticks": ""
            },
            "colorscale": [
             [
              0,
              "#0d0887"
             ],
             [
              0.1111111111111111,
              "#46039f"
             ],
             [
              0.2222222222222222,
              "#7201a8"
             ],
             [
              0.3333333333333333,
              "#9c179e"
             ],
             [
              0.4444444444444444,
              "#bd3786"
             ],
             [
              0.5555555555555556,
              "#d8576b"
             ],
             [
              0.6666666666666666,
              "#ed7953"
             ],
             [
              0.7777777777777778,
              "#fb9f3a"
             ],
             [
              0.8888888888888888,
              "#fdca26"
             ],
             [
              1,
              "#f0f921"
             ]
            ],
            "type": "surface"
           }
          ],
          "table": [
           {
            "cells": {
             "fill": {
              "color": "#EBF0F8"
             },
             "line": {
              "color": "white"
             }
            },
            "header": {
             "fill": {
              "color": "#C8D4E3"
             },
             "line": {
              "color": "white"
             }
            },
            "type": "table"
           }
          ]
         },
         "layout": {
          "annotationdefaults": {
           "arrowcolor": "#2a3f5f",
           "arrowhead": 0,
           "arrowwidth": 1
          },
          "autotypenumbers": "strict",
          "coloraxis": {
           "colorbar": {
            "outlinewidth": 0,
            "ticks": ""
           }
          },
          "colorscale": {
           "diverging": [
            [
             0,
             "#8e0152"
            ],
            [
             0.1,
             "#c51b7d"
            ],
            [
             0.2,
             "#de77ae"
            ],
            [
             0.3,
             "#f1b6da"
            ],
            [
             0.4,
             "#fde0ef"
            ],
            [
             0.5,
             "#f7f7f7"
            ],
            [
             0.6,
             "#e6f5d0"
            ],
            [
             0.7,
             "#b8e186"
            ],
            [
             0.8,
             "#7fbc41"
            ],
            [
             0.9,
             "#4d9221"
            ],
            [
             1,
             "#276419"
            ]
           ],
           "sequential": [
            [
             0,
             "#0d0887"
            ],
            [
             0.1111111111111111,
             "#46039f"
            ],
            [
             0.2222222222222222,
             "#7201a8"
            ],
            [
             0.3333333333333333,
             "#9c179e"
            ],
            [
             0.4444444444444444,
             "#bd3786"
            ],
            [
             0.5555555555555556,
             "#d8576b"
            ],
            [
             0.6666666666666666,
             "#ed7953"
            ],
            [
             0.7777777777777778,
             "#fb9f3a"
            ],
            [
             0.8888888888888888,
             "#fdca26"
            ],
            [
             1,
             "#f0f921"
            ]
           ],
           "sequentialminus": [
            [
             0,
             "#0d0887"
            ],
            [
             0.1111111111111111,
             "#46039f"
            ],
            [
             0.2222222222222222,
             "#7201a8"
            ],
            [
             0.3333333333333333,
             "#9c179e"
            ],
            [
             0.4444444444444444,
             "#bd3786"
            ],
            [
             0.5555555555555556,
             "#d8576b"
            ],
            [
             0.6666666666666666,
             "#ed7953"
            ],
            [
             0.7777777777777778,
             "#fb9f3a"
            ],
            [
             0.8888888888888888,
             "#fdca26"
            ],
            [
             1,
             "#f0f921"
            ]
           ]
          },
          "colorway": [
           "#636efa",
           "#EF553B",
           "#00cc96",
           "#ab63fa",
           "#FFA15A",
           "#19d3f3",
           "#FF6692",
           "#B6E880",
           "#FF97FF",
           "#FECB52"
          ],
          "font": {
           "color": "#2a3f5f"
          },
          "geo": {
           "bgcolor": "white",
           "lakecolor": "white",
           "landcolor": "#E5ECF6",
           "showlakes": true,
           "showland": true,
           "subunitcolor": "white"
          },
          "hoverlabel": {
           "align": "left"
          },
          "hovermode": "closest",
          "mapbox": {
           "style": "light"
          },
          "paper_bgcolor": "white",
          "plot_bgcolor": "#E5ECF6",
          "polar": {
           "angularaxis": {
            "gridcolor": "white",
            "linecolor": "white",
            "ticks": ""
           },
           "bgcolor": "#E5ECF6",
           "radialaxis": {
            "gridcolor": "white",
            "linecolor": "white",
            "ticks": ""
           }
          },
          "scene": {
           "xaxis": {
            "backgroundcolor": "#E5ECF6",
            "gridcolor": "white",
            "gridwidth": 2,
            "linecolor": "white",
            "showbackground": true,
            "ticks": "",
            "zerolinecolor": "white"
           },
           "yaxis": {
            "backgroundcolor": "#E5ECF6",
            "gridcolor": "white",
            "gridwidth": 2,
            "linecolor": "white",
            "showbackground": true,
            "ticks": "",
            "zerolinecolor": "white"
           },
           "zaxis": {
            "backgroundcolor": "#E5ECF6",
            "gridcolor": "white",
            "gridwidth": 2,
            "linecolor": "white",
            "showbackground": true,
            "ticks": "",
            "zerolinecolor": "white"
           }
          },
          "shapedefaults": {
           "line": {
            "color": "#2a3f5f"
           }
          },
          "ternary": {
           "aaxis": {
            "gridcolor": "white",
            "linecolor": "white",
            "ticks": ""
           },
           "baxis": {
            "gridcolor": "white",
            "linecolor": "white",
            "ticks": ""
           },
           "bgcolor": "#E5ECF6",
           "caxis": {
            "gridcolor": "white",
            "linecolor": "white",
            "ticks": ""
           }
          },
          "title": {
           "x": 0.05
          },
          "xaxis": {
           "automargin": true,
           "gridcolor": "white",
           "linecolor": "white",
           "ticks": "",
           "title": {
            "standoff": 15
           },
           "zerolinecolor": "white",
           "zerolinewidth": 2
          },
          "yaxis": {
           "automargin": true,
           "gridcolor": "white",
           "linecolor": "white",
           "ticks": "",
           "title": {
            "standoff": 15
           },
           "zerolinecolor": "white",
           "zerolinewidth": 2
          }
         }
        },
        "xaxis": {
         "anchor": "y",
         "domain": [
          0,
          1
         ],
         "title": {
          "text": "Date"
         }
        },
        "yaxis": {
         "anchor": "x",
         "domain": [
          0,
          1
         ],
         "title": {
          "text": "Average"
         }
        }
       }
      }
     },
     "metadata": {}
    }
   ],
   "source": [
    "fig = px.line(average_features_df, x=\"Date\", y=\"Average\", color=\"Feature\")\n",
    "fig.show()"
   ]
  },
  {
   "cell_type": "code",
   "execution_count": 48,
   "metadata": {},
   "outputs": [
    {
     "output_type": "stream",
     "name": "stderr",
     "text": [
      "100%|██████████| 60/60 [00:22<00:00,  2.62it/s]\n"
     ]
    }
   ],
   "source": [
    "average_duration = final_data_plotter.average_by_date(1961, 2020, \"duration_ms\")\n"
   ]
  },
  {
   "cell_type": "code",
   "execution_count": 49,
   "metadata": {},
   "outputs": [
    {
     "output_type": "display_data",
     "data": {
      "application/vnd.plotly.v1+json": {
       "config": {
        "plotlyServerURL": "https://plot.ly"
       },
       "data": [
        {
         "hovertemplate": "Date=%{x}<br>Average=%{y}<extra></extra>",
         "legendgroup": "",
         "line": {
          "color": "#636efa",
          "dash": "solid"
         },
         "mode": "lines",
         "name": "",
         "orientation": "v",
         "showlegend": false,
         "type": "scatter",
         "x": [
          "1961-06-01",
          "1962-06-01",
          "1963-06-01",
          "1964-06-01",
          "1965-06-01",
          "1966-06-01",
          "1967-06-01",
          "1968-06-01",
          "1969-06-01",
          "1970-06-01",
          "1971-06-01",
          "1972-06-01",
          "1973-06-01",
          "1974-06-01",
          "1975-06-01",
          "1976-06-01",
          "1977-06-01",
          "1978-06-01",
          "1979-06-01",
          "1980-06-01",
          "1981-06-01",
          "1982-06-01",
          "1983-06-01",
          "1984-06-01",
          "1985-06-01",
          "1986-06-01",
          "1987-06-01",
          "1988-06-01",
          "1989-06-01",
          "1990-06-01",
          "1991-06-01",
          "1992-06-01",
          "1993-06-01",
          "1994-06-01",
          "1995-06-01",
          "1996-06-01",
          "1997-06-01",
          "1998-06-01",
          "1999-06-01",
          "2000-06-01",
          "2001-06-01",
          "2002-06-01",
          "2003-06-01",
          "2004-06-01",
          "2005-06-01",
          "2006-06-01",
          "2007-06-01",
          "2008-06-01",
          "2009-06-01",
          "2010-06-01",
          "2011-06-01",
          "2012-06-01",
          "2013-06-01",
          "2014-06-01",
          "2015-06-01",
          "2016-06-01",
          "2017-06-01",
          "2018-06-01",
          "2019-06-01",
          "2020-06-01"
         ],
         "xaxis": "x",
         "y": [
          150705.24137931035,
          158559.43529411763,
          152459.35714285713,
          159035.2962962963,
          158238.36046511628,
          165387.75,
          168955.03296703298,
          173605.68181818182,
          194638.8829787234,
          206378.2098765432,
          201828.36842105264,
          216613.6590909091,
          220000.12765957447,
          245429.15789473685,
          227693.55813953487,
          244548.42857142858,
          238248.71578947367,
          242032.79569892472,
          262893.6914893617,
          244012.17582417582,
          249607.96774193548,
          242814.72043010753,
          252659.95789473684,
          261095.96774193548,
          251986.19791666666,
          260573.2258064516,
          265454.4555555555,
          270060.66315789474,
          260018.10227272726,
          273529.3793103448,
          282029.27777777775,
          272669.01086956525,
          277186.65882352943,
          261189.01234567902,
          259039.68674698795,
          263958.6710526316,
          255519.8625,
          248524.48888888888,
          244284.30208333334,
          247402.03092783506,
          241421.72164948453,
          243452.8686868687,
          242931.83333333334,
          236750.61,
          243572.47474747474,
          232094.90625,
          234279.54347826086,
          230054.98850574714,
          230672.47916666666,
          226128.15625,
          230419.5744680851,
          228750.58333333334,
          232347.0909090909,
          228802.39175257733,
          218108.0612244898,
          223944.03,
          221196.1855670103,
          207727.0202020202,
          202833.75,
          191321.7
         ],
         "yaxis": "y"
        }
       ],
       "layout": {
        "legend": {
         "tracegroupgap": 0
        },
        "margin": {
         "t": 60
        },
        "template": {
         "data": {
          "bar": [
           {
            "error_x": {
             "color": "#2a3f5f"
            },
            "error_y": {
             "color": "#2a3f5f"
            },
            "marker": {
             "line": {
              "color": "#E5ECF6",
              "width": 0.5
             }
            },
            "type": "bar"
           }
          ],
          "barpolar": [
           {
            "marker": {
             "line": {
              "color": "#E5ECF6",
              "width": 0.5
             }
            },
            "type": "barpolar"
           }
          ],
          "carpet": [
           {
            "aaxis": {
             "endlinecolor": "#2a3f5f",
             "gridcolor": "white",
             "linecolor": "white",
             "minorgridcolor": "white",
             "startlinecolor": "#2a3f5f"
            },
            "baxis": {
             "endlinecolor": "#2a3f5f",
             "gridcolor": "white",
             "linecolor": "white",
             "minorgridcolor": "white",
             "startlinecolor": "#2a3f5f"
            },
            "type": "carpet"
           }
          ],
          "choropleth": [
           {
            "colorbar": {
             "outlinewidth": 0,
             "ticks": ""
            },
            "type": "choropleth"
           }
          ],
          "contour": [
           {
            "colorbar": {
             "outlinewidth": 0,
             "ticks": ""
            },
            "colorscale": [
             [
              0,
              "#0d0887"
             ],
             [
              0.1111111111111111,
              "#46039f"
             ],
             [
              0.2222222222222222,
              "#7201a8"
             ],
             [
              0.3333333333333333,
              "#9c179e"
             ],
             [
              0.4444444444444444,
              "#bd3786"
             ],
             [
              0.5555555555555556,
              "#d8576b"
             ],
             [
              0.6666666666666666,
              "#ed7953"
             ],
             [
              0.7777777777777778,
              "#fb9f3a"
             ],
             [
              0.8888888888888888,
              "#fdca26"
             ],
             [
              1,
              "#f0f921"
             ]
            ],
            "type": "contour"
           }
          ],
          "contourcarpet": [
           {
            "colorbar": {
             "outlinewidth": 0,
             "ticks": ""
            },
            "type": "contourcarpet"
           }
          ],
          "heatmap": [
           {
            "colorbar": {
             "outlinewidth": 0,
             "ticks": ""
            },
            "colorscale": [
             [
              0,
              "#0d0887"
             ],
             [
              0.1111111111111111,
              "#46039f"
             ],
             [
              0.2222222222222222,
              "#7201a8"
             ],
             [
              0.3333333333333333,
              "#9c179e"
             ],
             [
              0.4444444444444444,
              "#bd3786"
             ],
             [
              0.5555555555555556,
              "#d8576b"
             ],
             [
              0.6666666666666666,
              "#ed7953"
             ],
             [
              0.7777777777777778,
              "#fb9f3a"
             ],
             [
              0.8888888888888888,
              "#fdca26"
             ],
             [
              1,
              "#f0f921"
             ]
            ],
            "type": "heatmap"
           }
          ],
          "heatmapgl": [
           {
            "colorbar": {
             "outlinewidth": 0,
             "ticks": ""
            },
            "colorscale": [
             [
              0,
              "#0d0887"
             ],
             [
              0.1111111111111111,
              "#46039f"
             ],
             [
              0.2222222222222222,
              "#7201a8"
             ],
             [
              0.3333333333333333,
              "#9c179e"
             ],
             [
              0.4444444444444444,
              "#bd3786"
             ],
             [
              0.5555555555555556,
              "#d8576b"
             ],
             [
              0.6666666666666666,
              "#ed7953"
             ],
             [
              0.7777777777777778,
              "#fb9f3a"
             ],
             [
              0.8888888888888888,
              "#fdca26"
             ],
             [
              1,
              "#f0f921"
             ]
            ],
            "type": "heatmapgl"
           }
          ],
          "histogram": [
           {
            "marker": {
             "colorbar": {
              "outlinewidth": 0,
              "ticks": ""
             }
            },
            "type": "histogram"
           }
          ],
          "histogram2d": [
           {
            "colorbar": {
             "outlinewidth": 0,
             "ticks": ""
            },
            "colorscale": [
             [
              0,
              "#0d0887"
             ],
             [
              0.1111111111111111,
              "#46039f"
             ],
             [
              0.2222222222222222,
              "#7201a8"
             ],
             [
              0.3333333333333333,
              "#9c179e"
             ],
             [
              0.4444444444444444,
              "#bd3786"
             ],
             [
              0.5555555555555556,
              "#d8576b"
             ],
             [
              0.6666666666666666,
              "#ed7953"
             ],
             [
              0.7777777777777778,
              "#fb9f3a"
             ],
             [
              0.8888888888888888,
              "#fdca26"
             ],
             [
              1,
              "#f0f921"
             ]
            ],
            "type": "histogram2d"
           }
          ],
          "histogram2dcontour": [
           {
            "colorbar": {
             "outlinewidth": 0,
             "ticks": ""
            },
            "colorscale": [
             [
              0,
              "#0d0887"
             ],
             [
              0.1111111111111111,
              "#46039f"
             ],
             [
              0.2222222222222222,
              "#7201a8"
             ],
             [
              0.3333333333333333,
              "#9c179e"
             ],
             [
              0.4444444444444444,
              "#bd3786"
             ],
             [
              0.5555555555555556,
              "#d8576b"
             ],
             [
              0.6666666666666666,
              "#ed7953"
             ],
             [
              0.7777777777777778,
              "#fb9f3a"
             ],
             [
              0.8888888888888888,
              "#fdca26"
             ],
             [
              1,
              "#f0f921"
             ]
            ],
            "type": "histogram2dcontour"
           }
          ],
          "mesh3d": [
           {
            "colorbar": {
             "outlinewidth": 0,
             "ticks": ""
            },
            "type": "mesh3d"
           }
          ],
          "parcoords": [
           {
            "line": {
             "colorbar": {
              "outlinewidth": 0,
              "ticks": ""
             }
            },
            "type": "parcoords"
           }
          ],
          "pie": [
           {
            "automargin": true,
            "type": "pie"
           }
          ],
          "scatter": [
           {
            "marker": {
             "colorbar": {
              "outlinewidth": 0,
              "ticks": ""
             }
            },
            "type": "scatter"
           }
          ],
          "scatter3d": [
           {
            "line": {
             "colorbar": {
              "outlinewidth": 0,
              "ticks": ""
             }
            },
            "marker": {
             "colorbar": {
              "outlinewidth": 0,
              "ticks": ""
             }
            },
            "type": "scatter3d"
           }
          ],
          "scattercarpet": [
           {
            "marker": {
             "colorbar": {
              "outlinewidth": 0,
              "ticks": ""
             }
            },
            "type": "scattercarpet"
           }
          ],
          "scattergeo": [
           {
            "marker": {
             "colorbar": {
              "outlinewidth": 0,
              "ticks": ""
             }
            },
            "type": "scattergeo"
           }
          ],
          "scattergl": [
           {
            "marker": {
             "colorbar": {
              "outlinewidth": 0,
              "ticks": ""
             }
            },
            "type": "scattergl"
           }
          ],
          "scattermapbox": [
           {
            "marker": {
             "colorbar": {
              "outlinewidth": 0,
              "ticks": ""
             }
            },
            "type": "scattermapbox"
           }
          ],
          "scatterpolar": [
           {
            "marker": {
             "colorbar": {
              "outlinewidth": 0,
              "ticks": ""
             }
            },
            "type": "scatterpolar"
           }
          ],
          "scatterpolargl": [
           {
            "marker": {
             "colorbar": {
              "outlinewidth": 0,
              "ticks": ""
             }
            },
            "type": "scatterpolargl"
           }
          ],
          "scatterternary": [
           {
            "marker": {
             "colorbar": {
              "outlinewidth": 0,
              "ticks": ""
             }
            },
            "type": "scatterternary"
           }
          ],
          "surface": [
           {
            "colorbar": {
             "outlinewidth": 0,
             "ticks": ""
            },
            "colorscale": [
             [
              0,
              "#0d0887"
             ],
             [
              0.1111111111111111,
              "#46039f"
             ],
             [
              0.2222222222222222,
              "#7201a8"
             ],
             [
              0.3333333333333333,
              "#9c179e"
             ],
             [
              0.4444444444444444,
              "#bd3786"
             ],
             [
              0.5555555555555556,
              "#d8576b"
             ],
             [
              0.6666666666666666,
              "#ed7953"
             ],
             [
              0.7777777777777778,
              "#fb9f3a"
             ],
             [
              0.8888888888888888,
              "#fdca26"
             ],
             [
              1,
              "#f0f921"
             ]
            ],
            "type": "surface"
           }
          ],
          "table": [
           {
            "cells": {
             "fill": {
              "color": "#EBF0F8"
             },
             "line": {
              "color": "white"
             }
            },
            "header": {
             "fill": {
              "color": "#C8D4E3"
             },
             "line": {
              "color": "white"
             }
            },
            "type": "table"
           }
          ]
         },
         "layout": {
          "annotationdefaults": {
           "arrowcolor": "#2a3f5f",
           "arrowhead": 0,
           "arrowwidth": 1
          },
          "autotypenumbers": "strict",
          "coloraxis": {
           "colorbar": {
            "outlinewidth": 0,
            "ticks": ""
           }
          },
          "colorscale": {
           "diverging": [
            [
             0,
             "#8e0152"
            ],
            [
             0.1,
             "#c51b7d"
            ],
            [
             0.2,
             "#de77ae"
            ],
            [
             0.3,
             "#f1b6da"
            ],
            [
             0.4,
             "#fde0ef"
            ],
            [
             0.5,
             "#f7f7f7"
            ],
            [
             0.6,
             "#e6f5d0"
            ],
            [
             0.7,
             "#b8e186"
            ],
            [
             0.8,
             "#7fbc41"
            ],
            [
             0.9,
             "#4d9221"
            ],
            [
             1,
             "#276419"
            ]
           ],
           "sequential": [
            [
             0,
             "#0d0887"
            ],
            [
             0.1111111111111111,
             "#46039f"
            ],
            [
             0.2222222222222222,
             "#7201a8"
            ],
            [
             0.3333333333333333,
             "#9c179e"
            ],
            [
             0.4444444444444444,
             "#bd3786"
            ],
            [
             0.5555555555555556,
             "#d8576b"
            ],
            [
             0.6666666666666666,
             "#ed7953"
            ],
            [
             0.7777777777777778,
             "#fb9f3a"
            ],
            [
             0.8888888888888888,
             "#fdca26"
            ],
            [
             1,
             "#f0f921"
            ]
           ],
           "sequentialminus": [
            [
             0,
             "#0d0887"
            ],
            [
             0.1111111111111111,
             "#46039f"
            ],
            [
             0.2222222222222222,
             "#7201a8"
            ],
            [
             0.3333333333333333,
             "#9c179e"
            ],
            [
             0.4444444444444444,
             "#bd3786"
            ],
            [
             0.5555555555555556,
             "#d8576b"
            ],
            [
             0.6666666666666666,
             "#ed7953"
            ],
            [
             0.7777777777777778,
             "#fb9f3a"
            ],
            [
             0.8888888888888888,
             "#fdca26"
            ],
            [
             1,
             "#f0f921"
            ]
           ]
          },
          "colorway": [
           "#636efa",
           "#EF553B",
           "#00cc96",
           "#ab63fa",
           "#FFA15A",
           "#19d3f3",
           "#FF6692",
           "#B6E880",
           "#FF97FF",
           "#FECB52"
          ],
          "font": {
           "color": "#2a3f5f"
          },
          "geo": {
           "bgcolor": "white",
           "lakecolor": "white",
           "landcolor": "#E5ECF6",
           "showlakes": true,
           "showland": true,
           "subunitcolor": "white"
          },
          "hoverlabel": {
           "align": "left"
          },
          "hovermode": "closest",
          "mapbox": {
           "style": "light"
          },
          "paper_bgcolor": "white",
          "plot_bgcolor": "#E5ECF6",
          "polar": {
           "angularaxis": {
            "gridcolor": "white",
            "linecolor": "white",
            "ticks": ""
           },
           "bgcolor": "#E5ECF6",
           "radialaxis": {
            "gridcolor": "white",
            "linecolor": "white",
            "ticks": ""
           }
          },
          "scene": {
           "xaxis": {
            "backgroundcolor": "#E5ECF6",
            "gridcolor": "white",
            "gridwidth": 2,
            "linecolor": "white",
            "showbackground": true,
            "ticks": "",
            "zerolinecolor": "white"
           },
           "yaxis": {
            "backgroundcolor": "#E5ECF6",
            "gridcolor": "white",
            "gridwidth": 2,
            "linecolor": "white",
            "showbackground": true,
            "ticks": "",
            "zerolinecolor": "white"
           },
           "zaxis": {
            "backgroundcolor": "#E5ECF6",
            "gridcolor": "white",
            "gridwidth": 2,
            "linecolor": "white",
            "showbackground": true,
            "ticks": "",
            "zerolinecolor": "white"
           }
          },
          "shapedefaults": {
           "line": {
            "color": "#2a3f5f"
           }
          },
          "ternary": {
           "aaxis": {
            "gridcolor": "white",
            "linecolor": "white",
            "ticks": ""
           },
           "baxis": {
            "gridcolor": "white",
            "linecolor": "white",
            "ticks": ""
           },
           "bgcolor": "#E5ECF6",
           "caxis": {
            "gridcolor": "white",
            "linecolor": "white",
            "ticks": ""
           }
          },
          "title": {
           "x": 0.05
          },
          "xaxis": {
           "automargin": true,
           "gridcolor": "white",
           "linecolor": "white",
           "ticks": "",
           "title": {
            "standoff": 15
           },
           "zerolinecolor": "white",
           "zerolinewidth": 2
          },
          "yaxis": {
           "automargin": true,
           "gridcolor": "white",
           "linecolor": "white",
           "ticks": "",
           "title": {
            "standoff": 15
           },
           "zerolinecolor": "white",
           "zerolinewidth": 2
          }
         }
        },
        "xaxis": {
         "anchor": "y",
         "domain": [
          0,
          1
         ],
         "title": {
          "text": "Date"
         }
        },
        "yaxis": {
         "anchor": "x",
         "domain": [
          0,
          1
         ],
         "title": {
          "text": "Average"
         }
        }
       }
      }
     },
     "metadata": {}
    }
   ],
   "source": [
    "fig = px.line(average_duration, x=\"Date\", y=\"Average\")\n",
    "fig.show()"
   ]
  },
  {
   "cell_type": "code",
   "execution_count": null,
   "metadata": {},
   "outputs": [],
   "source": []
  }
 ],
 "metadata": {
  "kernelspec": {
   "display_name": "Python 3",
   "language": "python",
   "name": "python3"
  },
  "language_info": {
   "codemirror_mode": {
    "name": "ipython",
    "version": 3
   },
   "file_extension": ".py",
   "mimetype": "text/x-python",
   "name": "python",
   "nbconvert_exporter": "python",
   "pygments_lexer": "ipython3",
   "version": "3.9.2-final"
  }
 },
 "nbformat": 4,
 "nbformat_minor": 4
}